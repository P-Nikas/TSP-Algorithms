{
  "nbformat": 4,
  "nbformat_minor": 0,
  "metadata": {
    "colab": {
      "provenance": []
    },
    "kernelspec": {
      "name": "python3",
      "display_name": "Python 3"
    },
    "language_info": {
      "name": "python"
    }
  },
  "cells": [
    {
      "cell_type": "code",
      "source": [
        "# Imports used in this notebook. This is Python 3 on Jupyter with matplotlib.\n",
        "%matplotlib inline\n",
        "import matplotlib.pyplot as plt\n",
        "import random\n",
        "from itertools   import permutations, combinations\n",
        "from functools   import lru_cache as cache\n",
        "from collections import Counter\n",
        "from statistics  import mean, median\n",
        "import pandas as pd\n",
        "import time"
      ],
      "metadata": {
        "id": "-JnQysNOICib"
      },
      "execution_count": null,
      "outputs": []
    },
    {
      "cell_type": "code",
      "source": [
        "def exhaustive_tsp(cities):\n",
        "    \"Generate all possible tours of the cities and choose the shortest tour.\"\n",
        "    return shortest_tour(alltours(cities))\n",
        "\n",
        "def shortest_tour(tours): return min(tours, key=tour_length)\n",
        "\n",
        "# TO DO: Data types: City, Cities, Tour; Functions: alltours, tour_length"
      ],
      "metadata": {
        "id": "7Q-NaGAS7VXY"
      },
      "execution_count": null,
      "outputs": []
    },
    {
      "cell_type": "code",
      "source": [
        "def exhaustive_tsp(cities):\n",
        "    \"Generate all possible tours of the cities and choose the shortest tour.\"\n",
        "    return shortest_tour(alltours(cities))\n",
        "\n",
        "def shortest_tour(tours): return min(tours, key=tour_length)\n",
        "\n",
        "# TO DO: Data types: City, Cities, Tour; Functions: alltours, tour_length"
      ],
      "metadata": {
        "id": "yHerCflWIOXa"
      },
      "execution_count": null,
      "outputs": []
    },
    {
      "cell_type": "code",
      "source": [
        "def do(algorithm, cities):\n",
        "    \"Apply a TSP algorithm to cities, plot the result, and print info.\"\n",
        "    t0 = time.process_time()\n",
        "    tour = algorithm(cities)\n",
        "    t1 = time.process_time()\n",
        "    assert Counter(tour) == Counter(cities) # Every city appears exactly once in tour\n",
        "    plot_tour(tour)\n",
        "    plt.text(x=461,y=295,s=\"City A\",fontsize=10)\n",
        "    plt.text(x=471,y=19,s=\"City B\",fontsize=10)\n",
        "    plt.text(x=631,y=636,s=\"City C\",fontsize=10)\n",
        "    plt.text(x=734,y=292,s=\"City D\",fontsize=10)\n",
        "    plt.text(x=74,y=79,s=\"City E\",fontsize=10)\n",
        "    print(\"{}: {} cities ⇒ tour length {:.0f} (in {:.3f} sec)\".format(\n",
        "          name(algorithm), len(tour), tour_length(tour), t1 - t0))\n",
        "    \n",
        "def name(algorithm): return algorithm.__name__.replace('_tsp', '')"
      ],
      "metadata": {
        "id": "IWWjTuCZ7i9X"
      },
      "execution_count": null,
      "outputs": []
    },
    {
      "cell_type": "code",
      "source": [
        "def tour_length(tour):\n",
        "    \"\"\"The total of distances between each pair of consecutive cities in the tour.\n",
        "    This includes the last-to-first, distance(tour[-1], tour[0])\"\"\"\n",
        "    return sum(distance(tour[i - 1], tour[i]) \n",
        "               for i in range(len(tour)))\n",
        "\n",
        "City = complex\n",
        "\n",
        "def distance(A, B): return abs(A - B)\n",
        "\n",
        "def Cities(n, seed=391, width=999, height=666):\n",
        "    \"Make a set of n cities, sampled uniformly from a (width x height) rectangle.\"\n",
        "    random.seed((n, seed))\n",
        "    return frozenset(City(random.randint(1, width), random.randint(1, height))\n",
        "                     for c in range(n))"
      ],
      "metadata": {
        "id": "B875OX0t7QBl"
      },
      "execution_count": null,
      "outputs": []
    },
    {
      "cell_type": "code",
      "source": [
        "def plot_tour(tour, style='bo-'): \n",
        "    \"Plot every city and link in the tour, and highlight start city.\"\n",
        "    if len(tour) > 1000: plt.figure(figsize=(15, 10))\n",
        "    start = tour[0:1]\n",
        "    plot_segment(tour + start, style)\n",
        "    plot_segment(start, 'rD') # start city is red Diamond.\n",
        "    \n",
        "def plot_segment(segment, style='bo-'):\n",
        "    \"Plot every city and link in the segment.\"\n",
        "    plt.plot([X(c) for c in segment], [Y(c) for c in segment], style, clip_on=False)\n",
        "    plt.axis('scaled')\n",
        "    plt.axis('on')\n",
        "    \n",
        "def X(city): \"X coordinate.\"; return city.real\n",
        "def Y(city): \"Y coordinate.\"; return city.imag"
      ],
      "metadata": {
        "id": "7gqaLDmu7dzr"
      },
      "execution_count": null,
      "outputs": []
    },
    {
      "cell_type": "code",
      "execution_count": null,
      "metadata": {
        "id": "dlr6Yg8cGvGI"
      },
      "outputs": [],
      "source": [
        "def nn_tsp(cities, start=None):\n",
        "    \"\"\"Start the tour at the given start city (default: first city); \n",
        "    at each step extend the tour by moving from the previous city \n",
        "    to its nearest neighbor that has not yet been visited.\"\"\"\n",
        "    C = start or first(cities)\n",
        "    tour = [C]\n",
        "    unvisited = set(cities - {C})\n",
        "    while unvisited:\n",
        "        C = nearest_neighbor(C, unvisited)\n",
        "        tour.append(C)\n",
        "        unvisited.remove(C)\n",
        "    return tour\n",
        "\n",
        "def first(collection): return next(iter(collection))\n",
        "\n",
        "def nearest_neighbor(A, cities):\n",
        "    \"Find the city in cities that is nearest to city A.\"\n",
        "    return min(cities, key=lambda C: distance(C, A))"
      ]
    },
    {
      "cell_type": "code",
      "source": [
        "Cities(5)\n"
      ],
      "metadata": {
        "id": "cQ6Xc_4WIe3m",
        "colab": {
          "base_uri": "https://localhost:8080/"
        },
        "outputId": "5ff13348-d493-437d-a2dc-52dc87333f3a"
      },
      "execution_count": null,
      "outputs": [
        {
          "output_type": "execute_result",
          "data": {
            "text/plain": [
              "frozenset({(461+295j), (471+19j), (631+636j), (734+292j), (74+79j)})"
            ]
          },
          "metadata": {},
          "execution_count": 8
        }
      ]
    },
    {
      "cell_type": "code",
      "source": [
        "nn_tsp(Cities(5))"
      ],
      "metadata": {
        "colab": {
          "base_uri": "https://localhost:8080/"
        },
        "id": "i7yR6MX7IfqA",
        "outputId": "257a9326-8b28-49a6-b670-451179ea8e24"
      },
      "execution_count": null,
      "outputs": [
        {
          "output_type": "execute_result",
          "data": {
            "text/plain": [
              "[(461+295j), (734+292j), (631+636j), (471+19j), (74+79j)]"
            ]
          },
          "metadata": {},
          "execution_count": 9
        }
      ]
    },
    {
      "cell_type": "code",
      "source": [
        "tour_length(nn_tsp(Cities(5)))"
      ],
      "metadata": {
        "colab": {
          "base_uri": "https://localhost:8080/"
        },
        "id": "7Hzd6uLQIiQr",
        "outputId": "c7ac4a9a-3da6-4712-aef7-e8c541855b1f"
      },
      "execution_count": null,
      "outputs": [
        {
          "output_type": "execute_result",
          "data": {
            "text/plain": [
              "2114.2206479983547"
            ]
          },
          "metadata": {},
          "execution_count": 10
        }
      ]
    },
    {
      "cell_type": "code",
      "source": [
        "do(nn_tsp,Cities(5))"
      ],
      "metadata": {
        "colab": {
          "base_uri": "https://localhost:8080/",
          "height": 282
        },
        "id": "5dfVCb8-In7f",
        "outputId": "588abdce-e7ff-40f9-f2f1-8d88882009f2"
      },
      "execution_count": null,
      "outputs": [
        {
          "output_type": "stream",
          "name": "stdout",
          "text": [
            "nn: 5 cities ⇒ tour length 2114 (in 0.000 sec)\n"
          ]
        },
        {
          "output_type": "display_data",
          "data": {
            "text/plain": [
              "<Figure size 432x288 with 1 Axes>"
            ],
            "image/png": "[encoded data removed]"
          },
          "metadata": {
            "needs_background": "light"
          }
        }
      ]
    },
    {
      "cell_type": "code",
      "source": [
        "plot_segment([(461+295j), (734+292j)])\n",
        "plt.axis('scaled')\n",
        "plt.axis([0, 1000, 0, 1000])\n",
        "plt.text(x=461,y=295,s=\"City A\",fontsize=10)\n",
        "plt.text(x=734,y=292,s=\"City D\",fontsize=10)"
      ],
      "metadata": {
        "colab": {
          "base_uri": "https://localhost:8080/",
          "height": 286
        },
        "id": "Da-riyqFKOfh",
        "outputId": "daf5dfb5-e3e0-4b1e-ee68-918587116897"
      },
      "execution_count": null,
      "outputs": [
        {
          "output_type": "execute_result",
          "data": {
            "text/plain": [
              "Text(734, 292, 'City D')"
            ]
          },
          "metadata": {},
          "execution_count": 12
        },
        {
          "output_type": "display_data",
          "data": {
            "text/plain": [
              "<Figure size 432x288 with 1 Axes>"
            ],
            "image/png": "[encoded data removed]"
          },
          "metadata": {
            "needs_background": "light"
          }
        }
      ]
    },
    {
      "cell_type": "code",
      "source": [
        "plot_segment([(461+295j), (734+292j),(631+636j)])\n",
        "plt.axis('scaled')\n",
        "plt.axis([0, 1000, 0, 1000])\n",
        "plt.text(x=461,y=295,s=\"City A\",fontsize=10)\n",
        "plt.text(x=734,y=292,s=\"City D\",fontsize=10)\n",
        "plt.text(x=631,y=636,s=\"City C\",fontsize=10)"
      ],
      "metadata": {
        "colab": {
          "base_uri": "https://localhost:8080/",
          "height": 286
        },
        "id": "mG6DsDECKu2I",
        "outputId": "8fe01ff1-3471-44c4-abe6-e90064c84ce9"
      },
      "execution_count": null,
      "outputs": [
        {
          "output_type": "execute_result",
          "data": {
            "text/plain": [
              "Text(631, 636, 'City C')"
            ]
          },
          "metadata": {},
          "execution_count": 13
        },
        {
          "output_type": "display_data",
          "data": {
            "text/plain": [
              "<Figure size 432x288 with 1 Axes>"
            ],
            "image/png": "[encoded data removed]"
          },
          "metadata": {
            "needs_background": "light"
          }
        }
      ]
    },
    {
      "cell_type": "code",
      "source": [
        "plot_segment([(461+295j), (734+292j),(631+636j),(471+19j)])\n",
        "plt.axis('scaled')\n",
        "plt.axis([0, 1000, 0, 1000])\n",
        "plt.text(x=461,y=295,s=\"City A\",fontsize=10)\n",
        "plt.text(x=734,y=292,s=\"City D\",fontsize=10)\n",
        "plt.text(x=631,y=636,s=\"City C\",fontsize=10)\n",
        "plt.text(x=471,y=19,s=\"City B\",fontsize=10)"
      ],
      "metadata": {
        "colab": {
          "base_uri": "https://localhost:8080/",
          "height": 286
        },
        "id": "1-PNuT_7R-Lq",
        "outputId": "d215dc5d-555a-46e0-f4e0-eb9450cb58e9"
      },
      "execution_count": null,
      "outputs": [
        {
          "output_type": "execute_result",
          "data": {
            "text/plain": [
              "Text(471, 19, 'City B')"
            ]
          },
          "metadata": {},
          "execution_count": 14
        },
        {
          "output_type": "display_data",
          "data": {
            "text/plain": [
              "<Figure size 432x288 with 1 Axes>"
            ],
            "image/png": "[encoded data removed]"
          },
          "metadata": {
            "needs_background": "light"
          }
        }
      ]
    },
    {
      "cell_type": "code",
      "source": [
        "plot_segment([(461+295j), (734+292j),(631+636j),(471+19j),(74+79j)])\n",
        "plt.axis('scaled')\n",
        "plt.axis([0, 1000, 0, 1000])\n",
        "plt.text(x=461,y=295,s=\"City A\",fontsize=10)\n",
        "plt.text(x=734,y=292,s=\"City D\",fontsize=10)\n",
        "plt.text(x=631,y=636,s=\"City C\",fontsize=10)\n",
        "plt.text(x=471,y=19,s=\"City B\",fontsize=10)\n",
        "plt.text(x=74,y=79,s=\"City E\",fontsize=10)\n"
      ],
      "metadata": {
        "colab": {
          "base_uri": "https://localhost:8080/",
          "height": 286
        },
        "id": "y2FcRHFIVT1k",
        "outputId": "fd063d9b-2204-4a3e-f38e-e3c2ab14182b"
      },
      "execution_count": null,
      "outputs": [
        {
          "output_type": "execute_result",
          "data": {
            "text/plain": [
              "Text(74, 79, 'City E')"
            ]
          },
          "metadata": {},
          "execution_count": 15
        },
        {
          "output_type": "display_data",
          "data": {
            "text/plain": [
              "<Figure size 432x288 with 1 Axes>"
            ],
            "image/png": "[encoded data removed]"
          },
          "metadata": {
            "needs_background": "light"
          }
        }
      ]
    },
    {
      "cell_type": "code",
      "source": [
        "plot_tour([(461+295j), (734+292j),(631+636j),(471+19j),(74+79j)])\n",
        "plt.axis('scaled')\n",
        "plt.axis([0, 1000, 0, 1000])\n",
        "plt.text(x=461,y=295,s=\"City A\",fontsize=10)\n",
        "plt.text(x=734,y=292,s=\"City D\",fontsize=10)\n",
        "plt.text(x=631,y=636,s=\"City C\",fontsize=10)\n",
        "plt.text(x=471,y=19,s=\"City B\",fontsize=10)\n",
        "plt.text(x=74,y=79,s=\"City E\",fontsize=10)\n"
      ],
      "metadata": {
        "colab": {
          "base_uri": "https://localhost:8080/",
          "height": 286
        },
        "id": "UfZo26orVb49",
        "outputId": "88b70371-f561-4baf-ac2f-ff466f973f37"
      },
      "execution_count": null,
      "outputs": [
        {
          "output_type": "execute_result",
          "data": {
            "text/plain": [
              "Text(74, 79, 'City E')"
            ]
          },
          "metadata": {},
          "execution_count": 16
        },
        {
          "output_type": "display_data",
          "data": {
            "text/plain": [
              "<Figure size 432x288 with 1 Axes>"
            ],
            "image/png": "[encoded data removed]"
          },
          "metadata": {
            "needs_background": "light"
          }
        }
      ]
    },
    {
      "cell_type": "code",
      "source": [
        "df1=[]\n",
        "df2=[]\n",
        "df3=[]\n",
        "df=[]\n",
        "for i in range(100,1025,25):\n",
        "  t0 = time.process_time()\n",
        "  nn_tsp(Cities(i))\n",
        "  t1 = time.process_time()\n",
        "  df1.append(i)\n",
        "  df2.append(t1-t0)\n",
        "  df3.append(tour_length(nn_tsp(Cities(i))))\n",
        "df=pd.DataFrame({'Πλήθος Πόλεων':df1,'Χρόνος Εκτέλεσης':df2,\"Κόστος Διαδρομής\":df3})"
      ],
      "metadata": {
        "id": "18ZhzCw3WFkD"
      },
      "execution_count": null,
      "outputs": []
    },
    {
      "cell_type": "code",
      "source": [
        "df\n",
        "#from google.colab import files\n",
        "#df.to_csv('output.csv', encoding = 'utf-8-sig') \n",
        "#files.download('output.csv')"
      ],
      "metadata": {
        "colab": {
          "base_uri": "https://localhost:8080/",
          "height": 1000
        },
        "id": "cg_xgEL0cVxc",
        "outputId": "5234e60e-5ddc-482e-d68f-b6b5fc59f93b"
      },
      "execution_count": null,
      "outputs": [
        {
          "output_type": "execute_result",
          "data": {
            "text/plain": [
              "    Πλήθος Πόλεων  Χρόνος Εκτέλεσης  Κόστος Διαδρομής\n",
              "0             100            0.003711       8683.408432\n",
              "1             125            0.004133       7935.968999\n",
              "2             150            0.005898       9857.483113\n",
              "3             175            0.007881       9921.454394\n",
              "4             200            0.010374       9961.679020\n",
              "5             225            0.011920      11774.072496\n",
              "6             250            0.014471      12176.224712\n",
              "7             275            0.020790      12495.781690\n",
              "8             300            0.023255      13664.891486\n",
              "9             325            0.028122      13611.656666\n",
              "10            350            0.030038      14460.090335\n",
              "11            375            0.032039      15207.561300\n",
              "12            400            0.040090      15556.374894\n",
              "13            425            0.037225      15353.593294\n",
              "14            450            0.034469      16136.341079\n",
              "15            475            0.039488      16226.882809\n",
              "16            500            0.042310      17061.509356\n",
              "17            525            0.051832      17853.088935\n",
              "18            550            0.055215      17316.003552\n",
              "19            575            0.073909      17955.315794\n",
              "20            600            0.082951      18799.917584\n",
              "21            625            0.085884      18585.887524\n",
              "22            650            0.092568      18977.825953\n",
              "23            675            0.099648      19794.241364\n",
              "24            700            0.113555      20346.314358\n",
              "25            725            0.118053      19462.783721\n",
              "26            750            0.127616      20423.554957\n",
              "27            775            0.138911      20402.297792\n",
              "28            800            0.148471      20893.987119\n",
              "29            825            0.165742      22296.949239\n",
              "30            850            0.170841      21131.189334\n",
              "31            875            0.186768      22950.099586\n",
              "32            900            0.204582      23191.137447\n",
              "33            925            0.206807      22340.092700\n",
              "34            950            0.221432      22589.590680\n",
              "35            975            0.224783      22200.182966\n",
              "36           1000            0.234255      23861.212302"
            ],
            "text/html": [
              "\n",
              "  <div id=\"df-3218ff45-d58f-40ef-ac92-12d9d4f86c44\">\n",
              "    <div class=\"colab-df-container\">\n",
              "      <div>\n",
              "<style scoped>\n",
              "    .dataframe tbody tr th:only-of-type {\n",
              "        vertical-align: middle;\n",
              "    }\n",
              "\n",
              "    .dataframe tbody tr th {\n",
              "        vertical-align: top;\n",
              "    }\n",
              "\n",
              "    .dataframe thead th {\n",
              "        text-align: right;\n",
              "    }\n",
              "</style>\n",
              "<table border=\"1\" class=\"dataframe\">\n",
              "  <thead>\n",
              "    <tr style=\"text-align: right;\">\n",
              "      <th></th>\n",
              "      <th>Πλήθος Πόλεων</th>\n",
              "      <th>Χρόνος Εκτέλεσης</th>\n",
              "      <th>Κόστος Διαδρομής</th>\n",
              "    </tr>\n",
              "  </thead>\n",
              "  <tbody>\n",
              "    <tr>\n",
              "      <th>0</th>\n",
              "      <td>100</td>\n",
              "      <td>0.003711</td>\n",
              "      <td>8683.408432</td>\n",
              "    </tr>\n",
              "    <tr>\n",
              "      <th>1</th>\n",
              "      <td>125</td>\n",
              "      <td>0.004133</td>\n",
              "      <td>7935.968999</td>\n",
              "    </tr>\n",
              "    <tr>\n",
              "      <th>2</th>\n",
              "      <td>150</td>\n",
              "      <td>0.005898</td>\n",
              "      <td>9857.483113</td>\n",
              "    </tr>\n",
              "    <tr>\n",
              "      <th>3</th>\n",
              "      <td>175</td>\n",
              "      <td>0.007881</td>\n",
              "      <td>9921.454394</td>\n",
              "    </tr>\n",
              "    <tr>\n",
              "      <th>4</th>\n",
              "      <td>200</td>\n",
              "      <td>0.010374</td>\n",
              "      <td>9961.679020</td>\n",
              "    </tr>\n",
              "    <tr>\n",
              "      <th>5</th>\n",
              "      <td>225</td>\n",
              "      <td>0.011920</td>\n",
              "      <td>11774.072496</td>\n",
              "    </tr>\n",
              "    <tr>\n",
              "      <th>6</th>\n",
              "      <td>250</td>\n",
              "      <td>0.014471</td>\n",
              "      <td>12176.224712</td>\n",
              "    </tr>\n",
              "    <tr>\n",
              "      <th>7</th>\n",
              "      <td>275</td>\n",
              "      <td>0.020790</td>\n",
              "      <td>12495.781690</td>\n",
              "    </tr>\n",
              "    <tr>\n",
              "      <th>8</th>\n",
              "      <td>300</td>\n",
              "      <td>0.023255</td>\n",
              "      <td>13664.891486</td>\n",
              "    </tr>\n",
              "    <tr>\n",
              "      <th>9</th>\n",
              "      <td>325</td>\n",
              "      <td>0.028122</td>\n",
              "      <td>13611.656666</td>\n",
              "    </tr>\n",
              "    <tr>\n",
              "      <th>10</th>\n",
              "      <td>350</td>\n",
              "      <td>0.030038</td>\n",
              "      <td>14460.090335</td>\n",
              "    </tr>\n",
              "    <tr>\n",
              "      <th>11</th>\n",
              "      <td>375</td>\n",
              "      <td>0.032039</td>\n",
              "      <td>15207.561300</td>\n",
              "    </tr>\n",
              "    <tr>\n",
              "      <th>12</th>\n",
              "      <td>400</td>\n",
              "      <td>0.040090</td>\n",
              "      <td>15556.374894</td>\n",
              "    </tr>\n",
              "    <tr>\n",
              "      <th>13</th>\n",
              "      <td>425</td>\n",
              "      <td>0.037225</td>\n",
              "      <td>15353.593294</td>\n",
              "    </tr>\n",
              "    <tr>\n",
              "      <th>14</th>\n",
              "      <td>450</td>\n",
              "      <td>0.034469</td>\n",
              "      <td>16136.341079</td>\n",
              "    </tr>\n",
              "    <tr>\n",
              "      <th>15</th>\n",
              "      <td>475</td>\n",
              "      <td>0.039488</td>\n",
              "      <td>16226.882809</td>\n",
              "    </tr>\n",
              "    <tr>\n",
              "      <th>16</th>\n",
              "      <td>500</td>\n",
              "      <td>0.042310</td>\n",
              "      <td>17061.509356</td>\n",
              "    </tr>\n",
              "    <tr>\n",
              "      <th>17</th>\n",
              "      <td>525</td>\n",
              "      <td>0.051832</td>\n",
              "      <td>17853.088935</td>\n",
              "    </tr>\n",
              "    <tr>\n",
              "      <th>18</th>\n",
              "      <td>550</td>\n",
              "      <td>0.055215</td>\n",
              "      <td>17316.003552</td>\n",
              "    </tr>\n",
              "    <tr>\n",
              "      <th>19</th>\n",
              "      <td>575</td>\n",
              "      <td>0.073909</td>\n",
              "      <td>17955.315794</td>\n",
              "    </tr>\n",
              "    <tr>\n",
              "      <th>20</th>\n",
              "      <td>600</td>\n",
              "      <td>0.082951</td>\n",
              "      <td>18799.917584</td>\n",
              "    </tr>\n",
              "    <tr>\n",
              "      <th>21</th>\n",
              "      <td>625</td>\n",
              "      <td>0.085884</td>\n",
              "      <td>18585.887524</td>\n",
              "    </tr>\n",
              "    <tr>\n",
              "      <th>22</th>\n",
              "      <td>650</td>\n",
              "      <td>0.092568</td>\n",
              "      <td>18977.825953</td>\n",
              "    </tr>\n",
              "    <tr>\n",
              "      <th>23</th>\n",
              "      <td>675</td>\n",
              "      <td>0.099648</td>\n",
              "      <td>19794.241364</td>\n",
              "    </tr>\n",
              "    <tr>\n",
              "      <th>24</th>\n",
              "      <td>700</td>\n",
              "      <td>0.113555</td>\n",
              "      <td>20346.314358</td>\n",
              "    </tr>\n",
              "    <tr>\n",
              "      <th>25</th>\n",
              "      <td>725</td>\n",
              "      <td>0.118053</td>\n",
              "      <td>19462.783721</td>\n",
              "    </tr>\n",
              "    <tr>\n",
              "      <th>26</th>\n",
              "      <td>750</td>\n",
              "      <td>0.127616</td>\n",
              "      <td>20423.554957</td>\n",
              "    </tr>\n",
              "    <tr>\n",
              "      <th>27</th>\n",
              "      <td>775</td>\n",
              "      <td>0.138911</td>\n",
              "      <td>20402.297792</td>\n",
              "    </tr>\n",
              "    <tr>\n",
              "      <th>28</th>\n",
              "      <td>800</td>\n",
              "      <td>0.148471</td>\n",
              "      <td>20893.987119</td>\n",
              "    </tr>\n",
              "    <tr>\n",
              "      <th>29</th>\n",
              "      <td>825</td>\n",
              "      <td>0.165742</td>\n",
              "      <td>22296.949239</td>\n",
              "    </tr>\n",
              "    <tr>\n",
              "      <th>30</th>\n",
              "      <td>850</td>\n",
              "      <td>0.170841</td>\n",
              "      <td>21131.189334</td>\n",
              "    </tr>\n",
              "    <tr>\n",
              "      <th>31</th>\n",
              "      <td>875</td>\n",
              "      <td>0.186768</td>\n",
              "      <td>22950.099586</td>\n",
              "    </tr>\n",
              "    <tr>\n",
              "      <th>32</th>\n",
              "      <td>900</td>\n",
              "      <td>0.204582</td>\n",
              "      <td>23191.137447</td>\n",
              "    </tr>\n",
              "    <tr>\n",
              "      <th>33</th>\n",
              "      <td>925</td>\n",
              "      <td>0.206807</td>\n",
              "      <td>22340.092700</td>\n",
              "    </tr>\n",
              "    <tr>\n",
              "      <th>34</th>\n",
              "      <td>950</td>\n",
              "      <td>0.221432</td>\n",
              "      <td>22589.590680</td>\n",
              "    </tr>\n",
              "    <tr>\n",
              "      <th>35</th>\n",
              "      <td>975</td>\n",
              "      <td>0.224783</td>\n",
              "      <td>22200.182966</td>\n",
              "    </tr>\n",
              "    <tr>\n",
              "      <th>36</th>\n",
              "      <td>1000</td>\n",
              "      <td>0.234255</td>\n",
              "      <td>23861.212302</td>\n",
              "    </tr>\n",
              "  </tbody>\n",
              "</table>\n",
              "</div>\n",
              "      <button class=\"colab-df-convert\" onclick=\"convertToInteractive('df-3218ff45-d58f-40ef-ac92-12d9d4f86c44')\"\n",
              "              title=\"Convert this dataframe to an interactive table.\"\n",
              "              style=\"display:none;\">\n",
              "        \n",
              "  <svg xmlns=\"http://www.w3.org/2000/svg\" height=\"24px\"viewBox=\"0 0 24 24\"\n",
              "       width=\"24px\">\n",
              "    <path d=\"M0 0h24v24H0V0z\" fill=\"none\"/>\n",
              "    <path d=\"M18.56 5.44l.94 2.06.94-2.06 2.06-.94-2.06-.94-.94-2.06-.94 2.06-2.06.94zm-11 1L8.5 8.5l.94-2.06 2.06-.94-2.06-.94L8.5 2.5l-.94 2.06-2.06.94zm10 10l.94 2.06.94-2.06 2.06-.94-2.06-.94-.94-2.06-.94 2.06-2.06.94z\"/><path d=\"M17.41 7.96l-1.37-1.37c-.4-.4-.92-.59-1.43-.59-.52 0-1.04.2-1.43.59L10.3 9.45l-7.72 7.72c-.78.78-.78 2.05 0 2.83L4 21.41c.39.39.9.59 1.41.59.51 0 1.02-.2 1.41-.59l7.78-7.78 2.81-2.81c.8-.78.8-2.07 0-2.86zM5.41 20L4 18.59l7.72-7.72 1.47 1.35L5.41 20z\"/>\n",
              "  </svg>\n",
              "      </button>\n",
              "      \n",
              "  <style>\n",
              "    .colab-df-container {\n",
              "      display:flex;\n",
              "      flex-wrap:wrap;\n",
              "      gap: 12px;\n",
              "    }\n",
              "\n",
              "    .colab-df-convert {\n",
              "      background-color: #E8F0FE;\n",
              "      border: none;\n",
              "      border-radius: 50%;\n",
              "      cursor: pointer;\n",
              "      display: none;\n",
              "      fill: #1967D2;\n",
              "      height: 32px;\n",
              "      padding: 0 0 0 0;\n",
              "      width: 32px;\n",
              "    }\n",
              "\n",
              "    .colab-df-convert:hover {\n",
              "      background-color: #E2EBFA;\n",
              "      box-shadow: 0px 1px 2px rgba(60, 64, 67, 0.3), 0px 1px 3px 1px rgba(60, 64, 67, 0.15);\n",
              "      fill: #174EA6;\n",
              "    }\n",
              "\n",
              "    [theme=dark] .colab-df-convert {\n",
              "      background-color: #3B4455;\n",
              "      fill: #D2E3FC;\n",
              "    }\n",
              "\n",
              "    [theme=dark] .colab-df-convert:hover {\n",
              "      background-color: #434B5C;\n",
              "      box-shadow: 0px 1px 3px 1px rgba(0, 0, 0, 0.15);\n",
              "      filter: drop-shadow(0px 1px 2px rgba(0, 0, 0, 0.3));\n",
              "      fill: #FFFFFF;\n",
              "    }\n",
              "  </style>\n",
              "\n",
              "      <script>\n",
              "        const buttonEl =\n",
              "          document.querySelector('#df-3218ff45-d58f-40ef-ac92-12d9d4f86c44 button.colab-df-convert');\n",
              "        buttonEl.style.display =\n",
              "          google.colab.kernel.accessAllowed ? 'block' : 'none';\n",
              "\n",
              "        async function convertToInteractive(key) {\n",
              "          const element = document.querySelector('#df-3218ff45-d58f-40ef-ac92-12d9d4f86c44');\n",
              "          const dataTable =\n",
              "            await google.colab.kernel.invokeFunction('convertToInteractive',\n",
              "                                                     [key], {});\n",
              "          if (!dataTable) return;\n",
              "\n",
              "          const docLinkHtml = 'Like what you see? Visit the ' +\n",
              "            '<a target=\"_blank\" href=https://colab.research.google.com/notebooks/data_table.ipynb>data table notebook</a>'\n",
              "            + ' to learn more about interactive tables.';\n",
              "          element.innerHTML = '';\n",
              "          dataTable['output_type'] = 'display_data';\n",
              "          await google.colab.output.renderOutput(dataTable, element);\n",
              "          const docLink = document.createElement('div');\n",
              "          docLink.innerHTML = docLinkHtml;\n",
              "          element.appendChild(docLink);\n",
              "        }\n",
              "      </script>\n",
              "    </div>\n",
              "  </div>\n",
              "  "
            ]
          },
          "metadata": {},
          "execution_count": 19
        }
      ]
    }
  ]
}