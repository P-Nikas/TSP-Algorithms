{
  "nbformat": 4,
  "nbformat_minor": 0,
  "metadata": {
    "colab": {
      "provenance": [],
      "machine_shape": "hm"
    },
    "kernelspec": {
      "name": "python3",
      "display_name": "Python 3"
    }
  },
  "cells": [
    {
      "cell_type": "code",
      "execution_count": null,
      "metadata": {
        "id": "T7UvQ-qTISTH"
      },
      "outputs": [],
      "source": [
        "# Imports used in this notebook. This is Python 3 on Jupyter with matplotlib.\n",
        "%matplotlib inline\n",
        "import matplotlib.pyplot as plt\n",
        "import random\n",
        "import time\n",
        "from itertools   import permutations, combinations\n",
        "from functools   import lru_cache as cache\n",
        "from collections import Counter\n",
        "from statistics  import mean, median"
      ]
    },
    {
      "cell_type": "code",
      "execution_count": null,
      "metadata": {
        "id": "CxtiEwsjISTY"
      },
      "outputs": [],
      "source": [
        "def alltours(cities):\n",
        "    \"Return a list of non-redundant tours (permutations of cities).\"\n",
        "    start, *others = cities\n",
        "    return [[start] + Tour(perm) for perm in permutations(others)]\n",
        "    \n",
        "Tour = list  # A Tour is a list of cities"
      ]
    },
    {
      "cell_type": "code",
      "execution_count": null,
      "metadata": {
        "id": "_8t2Gs5fISTL"
      },
      "outputs": [],
      "source": [
        "def exhaustive_tsp(cities):\n",
        "    \"Generate all possible tours of the cities and choose the shortest tour.\"\n",
        "    return shortest_tour(alltours(cities))\n",
        "\n",
        "def shortest_tour(tours): return min(tours, key=tour_length)\n",
        "\n",
        "# TO DO: Data types: City, Cities, Tour; Functions: alltours, tour_length"
      ]
    },
    {
      "cell_type": "code",
      "execution_count": null,
      "metadata": {
        "id": "hSD98C6XISTN"
      },
      "outputs": [],
      "source": [
        "alltours = permutations \n",
        "def tour_length(tour):\n",
        "    \"\"\"The total of distances between each pair of consecutive cities in the tour.\n",
        "    This includes the last-to-first, distance(tour[-1], tour[0])\"\"\"\n",
        "    return sum(distance(tour[i - 1], tour[i]) \n",
        "               for i in range(len(tour)))\n",
        "\n",
        "City = complex\n",
        "\n",
        "def distance(A, B): return abs(A - B)\n",
        "\n",
        "def Cities(n, seed=391, width=999, height=666):\n",
        "    \"Make a set of n cities, sampled uniformly from a (width x height) rectangle.\"\n",
        "    random.seed((n, seed))\n",
        "    return frozenset(City(random.randint(1, width), random.randint(1, height))\n",
        "                     for c in range(n))"
      ]
    },
    {
      "cell_type": "code",
      "execution_count": null,
      "metadata": {
        "id": "B5spqjvhISTS"
      },
      "outputs": [],
      "source": [
        "def plot_tour(tour, style='bo-'): \n",
        "    \"Plot every city and link in the tour, and highlight start city.\"\n",
        "    if len(tour) > 1000: plt.figure(figsize=(15, 10))\n",
        "    start = tour[0:1]\n",
        "    plot_segment(tour + start, style)\n",
        "    plot_segment(start, 'rD') # start city is red Diamond.\n",
        "    \n",
        "def plot_segment(segment, style='bo-'):\n",
        "    \"Plot every city and link in the segment.\"\n",
        "    plt.plot([X(c) for c in segment], [Y(c) for c in segment], style, clip_on=False)\n",
        "    plt.axis('scaled')\n",
        "    plt.axis('off')\n",
        "    \n",
        "def X(city): \"X coordinate.\"; return city.real\n",
        "def Y(city): \"Y coordinate.\"; return city.imag"
      ]
    },
    {
      "cell_type": "code",
      "execution_count": null,
      "metadata": {
        "id": "yQcPeomTISTV"
      },
      "outputs": [],
      "source": [
        "def do(algorithm, cities):\n",
        "    \"Apply a TSP algorithm to cities, plot the result, and print info.\"\n",
        "    t0 = time.process_time()\n",
        "    tour = algorithm(cities)\n",
        "    t1 = time.process_time()\n",
        "    assert Counter(tour) == Counter(cities) # Every city appears exactly once in tour\n",
        "    plt.text(x=461,y=295,s=\"City A\",fontsize=10)\n",
        "    plt.text(x=471,y=19,s=\"City B\",fontsize=10)\n",
        "    plt.text(x=631,y=636,s=\"City C\",fontsize=10)\n",
        "    plt.text(x=734,y=292,s=\"City D\",fontsize=10)\n",
        "    plt.text(x=74,y=79,s=\"City E\",fontsize=10)\n",
        "    plot_tour(tour)\n",
        "    print(\"{}: {} cities ⇒ tour length {:.0f} (in {:.3f} sec)\".format(\n",
        "          name(algorithm), len(tour), tour_length(tour), t1 - t0))\n",
        "    \n",
        "def name(algorithm): return algorithm.__name__.replace('_tsp', '')"
      ]
    },
    {
      "cell_type": "code",
      "execution_count": null,
      "metadata": {
        "id": "-wUukALRISVZ"
      },
      "outputs": [],
      "source": [
        "def held_karp_tsp(cities):\n",
        "    \"\"\"The Held-Karp shortest tour of this set of cities.\n",
        "    For each end city C, find the shortest segment from A (the start) to C.\n",
        "    Out of all these shortest segments, pick the one that is the shortest tour.\"\"\"\n",
        "    A = first(cities)\n",
        "    shortest_segment.cache_clear() # Start a new problem\n",
        "    return shortest_tour(shortest_segment(A, cities - {A, C}, C)\n",
        "                         for C in cities - {A})\n",
        "\n",
        "# TO DO: function: shortest_segment(A, Bs, C)"
      ]
    },
    {
      "cell_type": "code",
      "execution_count": null,
      "metadata": {
        "id": "H2mHSJsAISVZ"
      },
      "outputs": [],
      "source": [
        "@cache(None)\n",
        "def shortest_segment(A, Bs, C):\n",
        "    \"The shortest segment starting at A, going through all Bs, and ending at C.\"\n",
        "    if not Bs:\n",
        "        return [A, C]\n",
        "    else:\n",
        "        return min((shortest_segment(A, Bs - {B}, B) + [C] for B in Bs),\n",
        "                   key=segment_length)\n",
        "            \n",
        "def segment_length(segment):\n",
        "    \"The total of distances between each pair of consecutive cities in the segment.\"\n",
        "    # Same as tour_length, but without distance(tour[0], tour[-1])\n",
        "    return sum(distance(segment[i], segment[i-1]) \n",
        "               for i in range(1, len(segment)))"
      ]
    },
    {
      "cell_type": "code",
      "source": [
        "Cities(5)"
      ],
      "metadata": {
        "colab": {
          "base_uri": "https://localhost:8080/"
        },
        "id": "kzpuRZdBCgAX",
        "outputId": "3c8cfded-c700-4f6d-d672-8f6dec6096ab"
      },
      "execution_count": null,
      "outputs": [
        {
          "output_type": "execute_result",
          "data": {
            "text/plain": [
              "frozenset({(461+295j), (471+19j), (631+636j), (734+292j), (74+79j)})"
            ]
          },
          "metadata": {},
          "execution_count": 24
        }
      ]
    },
    {
      "cell_type": "code",
      "source": [
        "def first(collection): return next(iter(collection))"
      ],
      "metadata": {
        "id": "rMjDkkyuGh1H"
      },
      "execution_count": null,
      "outputs": []
    },
    {
      "cell_type": "code",
      "source": [
        "held_karp_tsp(Cities(5))"
      ],
      "metadata": {
        "colab": {
          "base_uri": "https://localhost:8080/"
        },
        "id": "piTQXXKDChFV",
        "outputId": "4cd890b9-65e9-4385-eafb-e2af7bff5e89"
      },
      "execution_count": null,
      "outputs": [
        {
          "output_type": "execute_result",
          "data": {
            "text/plain": [
              "[(461+295j), (74+79j), (471+19j), (734+292j), (631+636j)]"
            ]
          },
          "metadata": {},
          "execution_count": 25
        }
      ]
    },
    {
      "cell_type": "code",
      "source": [
        "tour_length(held_karp_tsp(Cities(5)))"
      ],
      "metadata": {
        "colab": {
          "base_uri": "https://localhost:8080/"
        },
        "id": "R3f0MlUcC1_I",
        "outputId": "096779ec-baff-47d4-ec45-6d4c66aba83b"
      },
      "execution_count": null,
      "outputs": [
        {
          "output_type": "execute_result",
          "data": {
            "text/plain": [
              "1963.8975686432882"
            ]
          },
          "metadata": {},
          "execution_count": 25
        }
      ]
    },
    {
      "cell_type": "code",
      "source": [
        "do(held_karp_tsp,Cities(5))"
      ],
      "metadata": {
        "colab": {
          "base_uri": "https://localhost:8080/",
          "height": 265
        },
        "id": "l-4YOkfd3e6-",
        "outputId": "b45fb4fc-9392-4ae8-ea6f-66f7692b6e47"
      },
      "execution_count": null,
      "outputs": [
        {
          "output_type": "stream",
          "name": "stdout",
          "text": [
            "held_karp: 5 cities ⇒ tour length 1964 (in 0.000 sec)\n"
          ]
        },
        {
          "output_type": "display_data",
          "data": {
            "text/plain": [
              "<Figure size 432x288 with 1 Axes>"
            ],
            "image/png": "[encoded data removed]"
          },
          "metadata": {
            "needs_background": "light"
          }
        }
      ]
    },
    {
      "cell_type": "code",
      "source": [
        "for i in range(3,23):\n",
        "  t0 = time.process_time()\n",
        "  held_karp_tsp(Cities(i))\n",
        "  t1 = time.process_time()\n",
        "  print(i,(t1-t0))"
      ],
      "metadata": {
        "colab": {
          "base_uri": "https://localhost:8080/"
        },
        "id": "LgafBhMgIjay",
        "outputId": "fcf32aa7-980f-442c-df33-e53f968d516e"
      },
      "execution_count": null,
      "outputs": [
        {
          "output_type": "stream",
          "name": "stdout",
          "text": [
            "3 8.207100017898483e-05\n",
            "4 8.044900005188538e-05\n",
            "5 0.00020540099967547576\n",
            "6 0.000589410999964457\n",
            "7 0.0017521019999549026\n",
            "8 0.006385980999766616\n",
            "9 0.012790666000000783\n",
            "10 0.03788206799981708\n",
            "11 0.09279815499985489\n",
            "12 0.23953834199983248\n",
            "13 0.5953177679998589\n",
            "14 1.4558652800001255\n",
            "15 3.578760864999822\n",
            "16 8.693779594000262\n",
            "17 20.37381683600006\n",
            "18 47.65585292100013\n",
            "19 113.56571377299997\n",
            "20 271.93440059700015\n",
            "21 676.4614234119999\n",
            "22 1564.0459096200002\n"
          ]
        }
      ]
    }
  ]
}