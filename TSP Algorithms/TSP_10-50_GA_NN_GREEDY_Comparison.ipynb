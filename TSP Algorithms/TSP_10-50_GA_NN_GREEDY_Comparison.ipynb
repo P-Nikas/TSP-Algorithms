{
  "cells": [
    {
      "cell_type": "code",
      "execution_count": null,
      "metadata": {
        "id": "-JnQysNOICib"
      },
      "outputs": [],
      "source": [
        "# Imports used in this notebook. This is Python 3 on Jupyter with matplotlib.\n",
        "%matplotlib inline\n",
        "import matplotlib.pyplot as plt\n",
        "import random\n",
        "from itertools   import permutations, combinations\n",
        "from functools   import lru_cache as cache\n",
        "from collections import Counter\n",
        "from statistics  import mean, median\n",
        "import pandas as pd\n",
        "import time\n",
        "import numpy\n",
        "import random, operator, time, itertools, math\n",
        "import matplotlib.colors as colors\n",
        "import matplotlib.cm as cmx\n",
        "\n"
      ]
    },
    {
      "cell_type": "code",
      "execution_count": null,
      "metadata": {
        "id": "7Q-NaGAS7VXY"
      },
      "outputs": [],
      "source": [
        "def exhaustive_tsp(cities):\n",
        "    \"Generate all possible tours of the cities and choose the shortest tour.\"\n",
        "    return shortest_tour(alltours(cities))\n",
        "\n",
        "def shortest_tour(tours): return min(tours, key=tour_length)\n",
        "\n",
        "# TO DO: Data types: City, Cities, Tour; Functions: alltours, tour_length"
      ]
    },
    {
      "cell_type": "code",
      "execution_count": null,
      "metadata": {
        "id": "CxtiEwsjISTY"
      },
      "outputs": [],
      "source": [
        "def alltours(cities):\n",
        "    \"Return a list of non-redundant tours (permutations of cities).\"\n",
        "    start, *others = cities\n",
        "    return [[start] + Tour(perm) for perm in permutations(others)]\n",
        "    \n",
        "Tour = list  # A Tour is a list of cities"
      ]
    },
    {
      "cell_type": "code",
      "execution_count": null,
      "metadata": {
        "id": "IWWjTuCZ7i9X"
      },
      "outputs": [],
      "source": [
        "def do(algorithm, cities):\n",
        "    \"Apply a TSP algorithm to cities, plot the result, and print info.\"\n",
        "    t0 = time.process_time()\n",
        "    tour = algorithm(cities)\n",
        "    t1 = time.process_time()\n",
        "    assert Counter(tour) == Counter(cities) # Every city appears exactly once in tour\n",
        "    plot_tour(tour)\n",
        "    plt.text(x=461,y=295,s=\"City A\",fontsize=10)\n",
        "    plt.text(x=471,y=19,s=\"City B\",fontsize=10)\n",
        "    plt.text(x=631,y=636,s=\"City C\",fontsize=10)\n",
        "    plt.text(x=734,y=292,s=\"City D\",fontsize=10)\n",
        "    plt.text(x=74,y=79,s=\"City E\",fontsize=10)\n",
        "    print(\"{}: {} cities ⇒ tour length {:.0f} (in {:.3f} sec)\".format(\n",
        "          name(algorithm), len(tour), tour_length(tour), t1 - t0))\n",
        "    \n",
        "def name(algorithm): return algorithm.__name__.replace('_tsp', '')"
      ]
    },
    {
      "cell_type": "code",
      "execution_count": null,
      "metadata": {
        "id": "B875OX0t7QBl"
      },
      "outputs": [],
      "source": [
        "def tour_length(tour):\n",
        "    \"\"\"The total of distances between each pair of consecutive cities in the tour.\n",
        "    This includes the last-to-first, distance(tour[-1], tour[0])\"\"\"\n",
        "    return sum(distance(tour[i - 1], tour[i]) \n",
        "               for i in range(len(tour)))\n",
        "\n",
        "City = complex\n",
        "\n",
        "def distance(A, B): return abs(A - B)\n",
        "\n",
        "def Cities(n, seed=391, width=999, height=666):\n",
        "    \"Make a set of n cities, sampled uniformly from a (width x height) rectangle.\"\n",
        "    random.seed((n, seed))\n",
        "    return set(City(random.randint(1, width), random.randint(1, height))\n",
        "                     for c in range(n))"
      ]
    },
    {
      "cell_type": "code",
      "execution_count": null,
      "metadata": {
        "id": "7gqaLDmu7dzr"
      },
      "outputs": [],
      "source": [
        "def plot_tour(tour, style='bo-'): \n",
        "    \"Plot every city and link in the tour, and highlight start city.\"\n",
        "    if len(tour) > 1000: plt.figure(figsize=(15, 10))\n",
        "    start = tour[0:1]\n",
        "    plot_segment(tour + start, style) \n",
        "    plot_segment(start, 'rD')\n",
        "    \n",
        "def plot_segment(segment, style='bo-'):\n",
        "    \"Plot every city and link in the segment.\"\n",
        "    plt.plot([X(c) for c in segment], [Y(c) for c in segment], style, clip_on=False)\n",
        "    plt.axis('scaled')\n",
        "    plt.axis('on')\n",
        "    \n",
        "def X(city): \"X coordinate.\"; return city.real\n",
        "def Y(city): \"Y coordinate.\"; return city.imag"
      ]
    },
    {
      "cell_type": "code",
      "execution_count": null,
      "metadata": {
        "id": "izb3ZgHcISUg"
      },
      "outputs": [],
      "source": [
        "def join_endpoints(endpoints, A, B):\n",
        "    \"Join segments [...,A] + [B,...] into one segment. Maintain `endpoints`.\"\n",
        "    Aseg, Bseg = endpoints[A], endpoints[B]\n",
        "    if Aseg[-1] is not A: Aseg.reverse()\n",
        "    if Bseg[0]  is not B: Bseg.reverse()\n",
        "    Aseg += Bseg\n",
        "    del endpoints[A], endpoints[B] \n",
        "    endpoints[Aseg[0]] = endpoints[Aseg[-1]] = Aseg\n",
        "    return Aseg"
      ]
    },
    {
      "cell_type": "code",
      "execution_count": null,
      "metadata": {
        "id": "zE78ysE5ISUW"
      },
      "outputs": [],
      "source": [
        "def improve_tour(tour):\n",
        "    \"Try to alter tour for the better by reversing segments.\"\n",
        "    while True:\n",
        "        improvements = {reverse_segment_if_improvement(tour, i, j)\n",
        "                        for (i, j) in subsegments(len(tour))}\n",
        "        if improvements == {None}:\n",
        "            return tour\n",
        "\n",
        "@cache()\n",
        "def subsegments(N):\n",
        "    \"Return (i, j) pairs denoting tour[i:j] subsegments of a tour of length N.\"\n",
        "    return [(i, i + length)\n",
        "            for length in reversed(range(2, N))\n",
        "            for i in reversed(range(N - length + 1))]"
      ]
    },
    {
      "cell_type": "code",
      "execution_count": null,
      "metadata": {
        "id": "Fe0TTNFDISUV"
      },
      "outputs": [],
      "source": [
        "def reverse_segment_if_improvement(tour, i, j):\n",
        "    \"If reversing tour[i:j] would make the tour shorter, then do it.\" \n",
        "    # Given tour [...A,B...C,D...], consider reversing B...C to get [...A,C...B,D...]\n",
        "    A, B, C, D = tour[i-1], tour[i], tour[j-1], tour[j % len(tour)]\n",
        "    # Are old links (AB + CD) longer than new ones (AC + BD)? If so, reverse segment.\n",
        "    if distance(A, B) + distance(C, D) > distance(A, C) + distance(B, D):\n",
        "        tour[i:j] = reversed(tour[i:j])\n",
        "        return True"
      ]
    },
    {
      "cell_type": "code",
      "execution_count": null,
      "metadata": {
        "colab": {
          "base_uri": "https://localhost:8080/"
        },
        "id": "ROXuHuuoYCMm",
        "outputId": "47dc355a-b9d2-4647-9e49-8d0f40750a75"
      },
      "outputs": [
        {
          "output_type": "stream",
          "name": "stdout",
          "text": [
            "Looking in indexes: https://pypi.org/simple, https://us-python.pkg.dev/colab-wheels/public/simple/\n",
            "Collecting deap\n",
            "  Downloading deap-1.3.3-cp38-cp38-manylinux_2_5_x86_64.manylinux1_x86_64.manylinux_2_17_x86_64.manylinux2014_x86_64.whl (139 kB)\n",
            "\u001b[2K     \u001b[90m━━━━━━━━━━━━━━━━━━━━━━━━━━━━━━━━━━━━━━━\u001b[0m \u001b[32m139.9/139.9 KB\u001b[0m \u001b[31m3.5 MB/s\u001b[0m eta \u001b[36m0:00:00\u001b[0m\n",
            "\u001b[?25hRequirement already satisfied: numpy in /usr/local/lib/python3.8/dist-packages (from deap) (1.21.6)\n",
            "Installing collected packages: deap\n",
            "Successfully installed deap-1.3.3\n"
          ]
        }
      ],
      "source": [
        "pip install deap"
      ]
    },
    {
      "cell_type": "code",
      "execution_count": null,
      "metadata": {
        "id": "yB7eO2gjYMSg"
      },
      "outputs": [],
      "source": [
        "from deap import algorithms, base, creator, tools"
      ]
    },
    {
      "cell_type": "code",
      "execution_count": null,
      "metadata": {
        "id": "H27s8Z6RYTPx"
      },
      "outputs": [],
      "source": [
        "toolbox = base.Toolbox()"
      ]
    },
    {
      "cell_type": "code",
      "execution_count": null,
      "metadata": {
        "id": "clU5ngidyw6z"
      },
      "outputs": [],
      "source": [
        "def create_tour(individual):\n",
        "    return [list(cities)[e] for e in individual]"
      ]
    },
    {
      "cell_type": "code",
      "execution_count": null,
      "metadata": {
        "id": "utWRrAhpPEIS"
      },
      "outputs": [],
      "source": [
        "def alltours(cities):\n",
        "    \"Return a list of non-redundant tours (permutations of cities).\"\n",
        "    start, *others = cities\n",
        "    return [[start] + Tour(perm) for perm in permutations(others)]\n",
        "    \n",
        "Tour = list  # A Tour is a list of cities"
      ]
    },
    {
      "cell_type": "code",
      "execution_count": null,
      "metadata": {
        "id": "JULnNiw4yw6z"
      },
      "outputs": [],
      "source": [
        "def evaluation(individual):\n",
        "    '''Evaluates an individual by converting it into \n",
        "    a list of cities and passing that list to total_distance'''\n",
        "    return (total_distance(create_tour(individual)),)"
      ]
    },
    {
      "cell_type": "code",
      "execution_count": null,
      "metadata": {
        "id": "y-tYEWI3skQR"
      },
      "outputs": [],
      "source": [
        "def total_distance(tour):\n",
        "    \"The total distance between each pair of consecutive cities in the tour.\"\n",
        "    return sum(distance(tour[i], tour[i-1]) \n",
        "               for i in range(len(tour)))"
      ]
    },
    {
      "cell_type": "code",
      "execution_count": null,
      "metadata": {
        "id": "uwiVQz11YTWB"
      },
      "outputs": [],
      "source": [
        "creator.create(\"FitnessMin\", base.Fitness, weights=(-1.0,))\n",
        "creator.create(\"Individual\", list, fitness=creator.FitnessMin)"
      ]
    },
    {
      "cell_type": "code",
      "execution_count": null,
      "metadata": {
        "id": "UxAyw2Ryyw6z"
      },
      "outputs": [],
      "source": [
        "toolbox.register(\"evaluate\", evaluation)"
      ]
    },
    {
      "cell_type": "code",
      "execution_count": null,
      "metadata": {
        "id": "4fJ_cwrftCUI"
      },
      "outputs": [],
      "source": [
        "toolbox.register(\"select\", tools.selTournament, tournsize=3)"
      ]
    },
    {
      "cell_type": "code",
      "execution_count": null,
      "metadata": {
        "id": "bluyjmYnYcJG"
      },
      "outputs": [],
      "source": [
        "toolbox.register(\"mate\", tools.cxOrdered)\n",
        "toolbox.register(\"mutate\", tools.mutShuffleIndexes, indpb=0.05)"
      ]
    },
    {
      "cell_type": "code",
      "execution_count": null,
      "metadata": {
        "id": "GXfSPgL4U47c"
      },
      "outputs": [],
      "source": [
        "cities=Cities(5)"
      ]
    },
    {
      "cell_type": "code",
      "execution_count": null,
      "metadata": {
        "id": "Nv-gKJfzYbR-"
      },
      "outputs": [],
      "source": [
        "toolbox.register(\"indices\", numpy.random.permutation, len(cities))\n",
        "toolbox.register(\"individual\", tools.initIterate, creator.Individual,\n",
        "                 toolbox.indices)\n",
        "toolbox.register(\"population\", tools.initRepeat, list, \n",
        "                 toolbox.individual)"
      ]
    },
    {
      "cell_type": "code",
      "source": [
        "pop_stats = tools.Statistics(key=numpy.copy)\n",
        "pop_stats.register('pop', numpy.copy) # -- copies the populations themselves\n",
        "pop_stats.register('fitness', # -- computes and stores the fitnesses\n",
        "                   lambda x : [evaluation(a) for a in x]) "
      ],
      "metadata": {
        "id": "mUQsGlSJHYdw"
      },
      "execution_count": null,
      "outputs": []
    },
    {
      "cell_type": "code",
      "execution_count": null,
      "metadata": {
        "id": "Ya7rfjQpofG-"
      },
      "outputs": [],
      "source": [
        "fit_stats = tools.Statistics(key=operator.attrgetter(\"fitness.values\"))\n",
        "fit_stats.register('mean', numpy.mean)\n",
        "fit_stats.register('min', numpy.min)"
      ]
    },
    {
      "cell_type": "code",
      "source": [
        "df1=[]\n",
        "df2=[]\n",
        "df3=[]\n",
        "df=[]\n",
        "for i in range(10,52,2):\n",
        "  cities=Cities(i)\n",
        "  toolbox.register(\"indices\", numpy.random.permutation, len(cities))\n",
        "  toolbox.register(\"individual\", tools.initIterate, creator.Individual, toolbox.indices)\n",
        "  toolbox.register(\"population\", tools.initRepeat, list, toolbox.individual)\n",
        "  toolbox.register(\"select\", tools.selTournament, tournsize=3)\n",
        "  toolbox.register(\"mate\", tools.cxOrdered)\n",
        "  toolbox.register(\"mutate\", tools.mutShuffleIndexes, indpb=0.1)\n",
        "  creator.create(\"FitnessMin\", base.Fitness, weights=(-1.0,))\n",
        "  creator.create(\"Individual\", list, fitness=creator.FitnessMin)\n",
        "  t0 = time.process_time()\n",
        "  result,log=algorithms.eaSimple(toolbox.population(n=150), toolbox,\n",
        "                                  cxpb=0.8, mutpb=0.1,\n",
        "                                  ngen=10000, verbose=False)\n",
        "  t1 = time.process_time()\n",
        "  best_individual = tools.selBest(result, k=1)[0]\n",
        "  df1.append(i)\n",
        "  df2.append(t1-t0)\n",
        "  df3.append(evaluation(best_individual)[0])\n",
        "df=pd.DataFrame({'Πλήθος Πόλεων':df1,'Χρονος Εκτέλεσης':df2,\"Κόστος Διαδρομής\":df3})"
      ],
      "metadata": {
        "id": "6JnckowwMJfK"
      },
      "execution_count": null,
      "outputs": []
    },
    {
      "cell_type": "code",
      "source": [
        "df"
      ],
      "metadata": {
        "id": "i2Tw-uPfGwKT",
        "colab": {
          "base_uri": "https://localhost:8080/",
          "height": 708
        },
        "outputId": "34620b22-dd68-45d8-9663-9a25af9faaa6"
      },
      "execution_count": null,
      "outputs": [
        {
          "output_type": "execute_result",
          "data": {
            "text/plain": [
              "    Πλήθος Πόλεων  Χρονος Εκτέλεσης  Κόστος Διαδρομής\n",
              "0              10         74.611063       2270.108323\n",
              "1              12         83.428183       2672.153854\n",
              "2              14         90.585877       2036.858926\n",
              "3              16         99.145026       2866.376444\n",
              "4              18        109.388170       3053.538106\n",
              "5              20        118.877660       3043.854354\n",
              "6              22        128.080870       3292.851661\n",
              "7              24        136.694136       3716.408205\n",
              "8              26        145.336720       3920.807432\n",
              "9              28        154.065681       3726.619830\n",
              "10             30        162.123642       3980.155449\n",
              "11             32        171.079784       3645.479240\n",
              "12             34        181.092948       4756.389836\n",
              "13             36        190.681685       4242.687540\n",
              "14             38        198.056884       5203.853675\n",
              "15             40        209.095196       4887.604034\n",
              "16             42        216.869906       4382.412452\n",
              "17             44        226.681812       4993.261128\n",
              "18             46        236.162560       5258.788507\n",
              "19             48        246.259209       4879.279472\n",
              "20             50        254.682973       5271.048532"
            ],
            "text/html": [
              "\n",
              "  <div id=\"df-56320187-0dd6-43c5-8c0a-b1e084c95197\">\n",
              "    <div class=\"colab-df-container\">\n",
              "      <div>\n",
              "<style scoped>\n",
              "    .dataframe tbody tr th:only-of-type {\n",
              "        vertical-align: middle;\n",
              "    }\n",
              "\n",
              "    .dataframe tbody tr th {\n",
              "        vertical-align: top;\n",
              "    }\n",
              "\n",
              "    .dataframe thead th {\n",
              "        text-align: right;\n",
              "    }\n",
              "</style>\n",
              "<table border=\"1\" class=\"dataframe\">\n",
              "  <thead>\n",
              "    <tr style=\"text-align: right;\">\n",
              "      <th></th>\n",
              "      <th>Πλήθος Πόλεων</th>\n",
              "      <th>Χρονος Εκτέλεσης</th>\n",
              "      <th>Κόστος Διαδρομής</th>\n",
              "    </tr>\n",
              "  </thead>\n",
              "  <tbody>\n",
              "    <tr>\n",
              "      <th>0</th>\n",
              "      <td>10</td>\n",
              "      <td>74.611063</td>\n",
              "      <td>2270.108323</td>\n",
              "    </tr>\n",
              "    <tr>\n",
              "      <th>1</th>\n",
              "      <td>12</td>\n",
              "      <td>83.428183</td>\n",
              "      <td>2672.153854</td>\n",
              "    </tr>\n",
              "    <tr>\n",
              "      <th>2</th>\n",
              "      <td>14</td>\n",
              "      <td>90.585877</td>\n",
              "      <td>2036.858926</td>\n",
              "    </tr>\n",
              "    <tr>\n",
              "      <th>3</th>\n",
              "      <td>16</td>\n",
              "      <td>99.145026</td>\n",
              "      <td>2866.376444</td>\n",
              "    </tr>\n",
              "    <tr>\n",
              "      <th>4</th>\n",
              "      <td>18</td>\n",
              "      <td>109.388170</td>\n",
              "      <td>3053.538106</td>\n",
              "    </tr>\n",
              "    <tr>\n",
              "      <th>5</th>\n",
              "      <td>20</td>\n",
              "      <td>118.877660</td>\n",
              "      <td>3043.854354</td>\n",
              "    </tr>\n",
              "    <tr>\n",
              "      <th>6</th>\n",
              "      <td>22</td>\n",
              "      <td>128.080870</td>\n",
              "      <td>3292.851661</td>\n",
              "    </tr>\n",
              "    <tr>\n",
              "      <th>7</th>\n",
              "      <td>24</td>\n",
              "      <td>136.694136</td>\n",
              "      <td>3716.408205</td>\n",
              "    </tr>\n",
              "    <tr>\n",
              "      <th>8</th>\n",
              "      <td>26</td>\n",
              "      <td>145.336720</td>\n",
              "      <td>3920.807432</td>\n",
              "    </tr>\n",
              "    <tr>\n",
              "      <th>9</th>\n",
              "      <td>28</td>\n",
              "      <td>154.065681</td>\n",
              "      <td>3726.619830</td>\n",
              "    </tr>\n",
              "    <tr>\n",
              "      <th>10</th>\n",
              "      <td>30</td>\n",
              "      <td>162.123642</td>\n",
              "      <td>3980.155449</td>\n",
              "    </tr>\n",
              "    <tr>\n",
              "      <th>11</th>\n",
              "      <td>32</td>\n",
              "      <td>171.079784</td>\n",
              "      <td>3645.479240</td>\n",
              "    </tr>\n",
              "    <tr>\n",
              "      <th>12</th>\n",
              "      <td>34</td>\n",
              "      <td>181.092948</td>\n",
              "      <td>4756.389836</td>\n",
              "    </tr>\n",
              "    <tr>\n",
              "      <th>13</th>\n",
              "      <td>36</td>\n",
              "      <td>190.681685</td>\n",
              "      <td>4242.687540</td>\n",
              "    </tr>\n",
              "    <tr>\n",
              "      <th>14</th>\n",
              "      <td>38</td>\n",
              "      <td>198.056884</td>\n",
              "      <td>5203.853675</td>\n",
              "    </tr>\n",
              "    <tr>\n",
              "      <th>15</th>\n",
              "      <td>40</td>\n",
              "      <td>209.095196</td>\n",
              "      <td>4887.604034</td>\n",
              "    </tr>\n",
              "    <tr>\n",
              "      <th>16</th>\n",
              "      <td>42</td>\n",
              "      <td>216.869906</td>\n",
              "      <td>4382.412452</td>\n",
              "    </tr>\n",
              "    <tr>\n",
              "      <th>17</th>\n",
              "      <td>44</td>\n",
              "      <td>226.681812</td>\n",
              "      <td>4993.261128</td>\n",
              "    </tr>\n",
              "    <tr>\n",
              "      <th>18</th>\n",
              "      <td>46</td>\n",
              "      <td>236.162560</td>\n",
              "      <td>5258.788507</td>\n",
              "    </tr>\n",
              "    <tr>\n",
              "      <th>19</th>\n",
              "      <td>48</td>\n",
              "      <td>246.259209</td>\n",
              "      <td>4879.279472</td>\n",
              "    </tr>\n",
              "    <tr>\n",
              "      <th>20</th>\n",
              "      <td>50</td>\n",
              "      <td>254.682973</td>\n",
              "      <td>5271.048532</td>\n",
              "    </tr>\n",
              "  </tbody>\n",
              "</table>\n",
              "</div>\n",
              "      <button class=\"colab-df-convert\" onclick=\"convertToInteractive('df-56320187-0dd6-43c5-8c0a-b1e084c95197')\"\n",
              "              title=\"Convert this dataframe to an interactive table.\"\n",
              "              style=\"display:none;\">\n",
              "        \n",
              "  <svg xmlns=\"http://www.w3.org/2000/svg\" height=\"24px\"viewBox=\"0 0 24 24\"\n",
              "       width=\"24px\">\n",
              "    <path d=\"M0 0h24v24H0V0z\" fill=\"none\"/>\n",
              "    <path d=\"M18.56 5.44l.94 2.06.94-2.06 2.06-.94-2.06-.94-.94-2.06-.94 2.06-2.06.94zm-11 1L8.5 8.5l.94-2.06 2.06-.94-2.06-.94L8.5 2.5l-.94 2.06-2.06.94zm10 10l.94 2.06.94-2.06 2.06-.94-2.06-.94-.94-2.06-.94 2.06-2.06.94z\"/><path d=\"M17.41 7.96l-1.37-1.37c-.4-.4-.92-.59-1.43-.59-.52 0-1.04.2-1.43.59L10.3 9.45l-7.72 7.72c-.78.78-.78 2.05 0 2.83L4 21.41c.39.39.9.59 1.41.59.51 0 1.02-.2 1.41-.59l7.78-7.78 2.81-2.81c.8-.78.8-2.07 0-2.86zM5.41 20L4 18.59l7.72-7.72 1.47 1.35L5.41 20z\"/>\n",
              "  </svg>\n",
              "      </button>\n",
              "      \n",
              "  <style>\n",
              "    .colab-df-container {\n",
              "      display:flex;\n",
              "      flex-wrap:wrap;\n",
              "      gap: 12px;\n",
              "    }\n",
              "\n",
              "    .colab-df-convert {\n",
              "      background-color: #E8F0FE;\n",
              "      border: none;\n",
              "      border-radius: 50%;\n",
              "      cursor: pointer;\n",
              "      display: none;\n",
              "      fill: #1967D2;\n",
              "      height: 32px;\n",
              "      padding: 0 0 0 0;\n",
              "      width: 32px;\n",
              "    }\n",
              "\n",
              "    .colab-df-convert:hover {\n",
              "      background-color: #E2EBFA;\n",
              "      box-shadow: 0px 1px 2px rgba(60, 64, 67, 0.3), 0px 1px 3px 1px rgba(60, 64, 67, 0.15);\n",
              "      fill: #174EA6;\n",
              "    }\n",
              "\n",
              "    [theme=dark] .colab-df-convert {\n",
              "      background-color: #3B4455;\n",
              "      fill: #D2E3FC;\n",
              "    }\n",
              "\n",
              "    [theme=dark] .colab-df-convert:hover {\n",
              "      background-color: #434B5C;\n",
              "      box-shadow: 0px 1px 3px 1px rgba(0, 0, 0, 0.15);\n",
              "      filter: drop-shadow(0px 1px 2px rgba(0, 0, 0, 0.3));\n",
              "      fill: #FFFFFF;\n",
              "    }\n",
              "  </style>\n",
              "\n",
              "      <script>\n",
              "        const buttonEl =\n",
              "          document.querySelector('#df-56320187-0dd6-43c5-8c0a-b1e084c95197 button.colab-df-convert');\n",
              "        buttonEl.style.display =\n",
              "          google.colab.kernel.accessAllowed ? 'block' : 'none';\n",
              "\n",
              "        async function convertToInteractive(key) {\n",
              "          const element = document.querySelector('#df-56320187-0dd6-43c5-8c0a-b1e084c95197');\n",
              "          const dataTable =\n",
              "            await google.colab.kernel.invokeFunction('convertToInteractive',\n",
              "                                                     [key], {});\n",
              "          if (!dataTable) return;\n",
              "\n",
              "          const docLinkHtml = 'Like what you see? Visit the ' +\n",
              "            '<a target=\"_blank\" href=https://colab.research.google.com/notebooks/data_table.ipynb>data table notebook</a>'\n",
              "            + ' to learn more about interactive tables.';\n",
              "          element.innerHTML = '';\n",
              "          dataTable['output_type'] = 'display_data';\n",
              "          await google.colab.output.renderOutput(dataTable, element);\n",
              "          const docLink = document.createElement('div');\n",
              "          docLink.innerHTML = docLinkHtml;\n",
              "          element.appendChild(docLink);\n",
              "        }\n",
              "      </script>\n",
              "    </div>\n",
              "  </div>\n",
              "  "
            ]
          },
          "metadata": {},
          "execution_count": 30
        }
      ]
    },
    {
      "cell_type": "code",
      "execution_count": null,
      "metadata": {
        "id": "nrtk6DrrXwTD",
        "colab": {
          "base_uri": "https://localhost:8080/",
          "height": 17
        },
        "outputId": "ca5bb510-17f1-44f7-b292-046b70437e9f"
      },
      "outputs": [
        {
          "output_type": "display_data",
          "data": {
            "text/plain": [
              "<IPython.core.display.Javascript object>"
            ],
            "application/javascript": [
              "\n",
              "    async function download(id, filename, size) {\n",
              "      if (!google.colab.kernel.accessAllowed) {\n",
              "        return;\n",
              "      }\n",
              "      const div = document.createElement('div');\n",
              "      const label = document.createElement('label');\n",
              "      label.textContent = `Downloading \"${filename}\": `;\n",
              "      div.appendChild(label);\n",
              "      const progress = document.createElement('progress');\n",
              "      progress.max = size;\n",
              "      div.appendChild(progress);\n",
              "      document.body.appendChild(div);\n",
              "\n",
              "      const buffers = [];\n",
              "      let downloaded = 0;\n",
              "\n",
              "      const channel = await google.colab.kernel.comms.open(id);\n",
              "      // Send a message to notify the kernel that we're ready.\n",
              "      channel.send({})\n",
              "\n",
              "      for await (const message of channel.messages) {\n",
              "        // Send a message to notify the kernel that we're ready.\n",
              "        channel.send({})\n",
              "        if (message.buffers) {\n",
              "          for (const buffer of message.buffers) {\n",
              "            buffers.push(buffer);\n",
              "            downloaded += buffer.byteLength;\n",
              "            progress.value = downloaded;\n",
              "          }\n",
              "        }\n",
              "      }\n",
              "      const blob = new Blob(buffers, {type: 'application/binary'});\n",
              "      const a = document.createElement('a');\n",
              "      a.href = window.URL.createObjectURL(blob);\n",
              "      a.download = filename;\n",
              "      div.appendChild(a);\n",
              "      a.click();\n",
              "      div.remove();\n",
              "    }\n",
              "  "
            ]
          },
          "metadata": {}
        },
        {
          "output_type": "display_data",
          "data": {
            "text/plain": [
              "<IPython.core.display.Javascript object>"
            ],
            "application/javascript": [
              "download(\"download_a6e38a29-ac9c-45b8-a3f6-3ac1d2dd1490\", \"output.csv\", 976)"
            ]
          },
          "metadata": {}
        }
      ],
      "source": [
        "\n",
        "from google.colab import files\n",
        "df.to_csv('output.csv', encoding = 'utf-8-sig') \n",
        "files.download('output.csv')"
      ]
    },
    {
      "cell_type": "code",
      "source": [
        "cities=Cities(100)\n",
        "toolbox.register(\"indices\", numpy.random.permutation, len(cities))\n",
        "toolbox.register(\"individual\", tools.initIterate, creator.Individual, toolbox.indices)\n",
        "toolbox.register(\"population\", tools.initRepeat, list, toolbox.individual)\n",
        "toolbox.register(\"select\", tools.selTournament, tournsize=3)\n",
        "toolbox.register(\"mate\", tools.cxOrdered)\n",
        "toolbox.register(\"mutate\", tools.mutShuffleIndexes, indpb=0.1)\n",
        "creator.create(\"FitnessMin\", base.Fitness, weights=(-1.0,))\n",
        "creator.create(\"Individual\", list, fitness=creator.FitnessMin)\n",
        "t0 = time.process_time()\n",
        "result,log=algorithms.eaSimple(toolbox.population(n=500), toolbox,\n",
        "                                  cxpb=0.8, mutpb=0.1,\n",
        "                                  ngen=10000, verbose=True,stats=fit_stats)\n",
        "best_individual = tools.selBest(result, k=1)[0]"
      ],
      "metadata": {
        "id": "sI2RRgv60Nju"
      },
      "execution_count": null,
      "outputs": []
    },
    {
      "cell_type": "code",
      "source": [
        "plot_tour(create_tour(best_individual))"
      ],
      "metadata": {
        "id": "7l-jyP1C7IB5",
        "colab": {
          "base_uri": "https://localhost:8080/",
          "height": 265
        },
        "outputId": "7a009678-aacc-45c9-c7cc-500f579a8486"
      },
      "execution_count": null,
      "outputs": [
        {
          "output_type": "display_data",
          "data": {
            "text/plain": [
              "<Figure size 432x288 with 1 Axes>"
            ],
            "image/png": "[encoded data removed]"
          },
          "metadata": {
            "needs_background": "light"
          }
        }
      ]
    },
    {
      "cell_type": "code",
      "source": [
        "plt.figure(figsize=(11, 4))\n",
        "plots = plt.plot(log.select('min'),'c-', log.select('mean'), 'b-')\n",
        "plt.legend(plots, ('Minimum fitness', 'Mean fitness'), frameon=True)\n",
        "plt.ylabel('Fitness'); plt.xlabel('Iterations');"
      ],
      "metadata": {
        "id": "_TFsh_lfvcMj",
        "colab": {
          "base_uri": "https://localhost:8080/",
          "height": 279
        },
        "outputId": "b4563a68-e175-44b9-ac32-69b2445b43e9"
      },
      "execution_count": null,
      "outputs": [
        {
          "output_type": "display_data",
          "data": {
            "text/plain": [
              "<Figure size 792x288 with 1 Axes>"
            ],
            "image/png": "[encoded data removed]"
          },
          "metadata": {
            "needs_background": "light"
          }
        }
      ]
    },
    {
      "cell_type": "markdown",
      "source": [
        "# New Section"
      ],
      "metadata": {
        "id": "ZanBgyKfH6zb"
      }
    },
    {
      "cell_type": "code",
      "source": [
        "def nn_tsp(cities, start=None):\n",
        "    \"\"\"Start the tour at the given start city (default: first city); \n",
        "    at each step extend the tour by moving from the previous city \n",
        "    to its nearest neighbor that has not yet been visited.\"\"\"\n",
        "    C = start or first(cities)\n",
        "    tour = [C]\n",
        "    unvisited = set(cities - {C})\n",
        "    while unvisited:\n",
        "        C = nearest_neighbor(C, unvisited)\n",
        "        tour.append(C)\n",
        "        unvisited.remove(C)\n",
        "    return tour\n",
        "\n",
        "def first(collection): return next(iter(collection))\n",
        "\n",
        "def nearest_neighbor(A, cities):\n",
        "    \"Find the city in cities that is nearest to city A.\"\n",
        "    return min(cities, key=lambda C: distance(C, A))"
      ],
      "metadata": {
        "id": "1pdS7n0xCnOM"
      },
      "execution_count": null,
      "outputs": []
    },
    {
      "cell_type": "code",
      "source": [
        "df1=[]\n",
        "df2=[]\n",
        "df3=[]\n",
        "df=[]\n",
        "for i in range(10,52,2):\n",
        "  t0 = time.process_time()\n",
        "  nn_tsp(Cities(i))\n",
        "  t1 = time.process_time()\n",
        "  df1.append(i)\n",
        "  df2.append(t1-t0)\n",
        "  df3.append(tour_length(nn_tsp(Cities(i))))\n",
        "df=pd.DataFrame({'Πλήθος Πόλεων':df1,'Χρόνος Εκτέλεσης':df2,\"Κόστος Διαδρομής\":df3})"
      ],
      "metadata": {
        "id": "RQyEOerGHCjL"
      },
      "execution_count": null,
      "outputs": []
    },
    {
      "cell_type": "code",
      "source": [
        "df"
      ],
      "metadata": {
        "colab": {
          "base_uri": "https://localhost:8080/",
          "height": 708
        },
        "id": "FR3VkYqNHJNT",
        "outputId": "cf49d40b-c7cd-4fd6-dd0d-345c1f5ab047"
      },
      "execution_count": null,
      "outputs": [
        {
          "output_type": "execute_result",
          "data": {
            "text/plain": [
              "    Πλήθος Πόλεων  Χρόνος Εκτέλεσης  Κόστος Διαδρομής\n",
              "0              10          0.000145       2407.757031\n",
              "1              12          0.000093       3290.259585\n",
              "2              14          0.000157       2036.858926\n",
              "3              16          0.000146       3061.735332\n",
              "4              18          0.000157       3225.757318\n",
              "5              20          0.000169       3818.553682\n",
              "6              22          0.000210       4165.210021\n",
              "7              24          0.000214       3862.096784\n",
              "8              26          0.000310       4316.972214\n",
              "9              28          0.000264       4586.595770\n",
              "10             30          0.000296       4561.333606\n",
              "11             32          0.000320       3958.279804\n",
              "12             34          0.000339       4803.006963\n",
              "13             36          0.000364       4437.362154\n",
              "14             38          0.000403       5742.734051\n",
              "15             40          0.000435       5247.575562\n",
              "16             42          0.000454       5346.339740\n",
              "17             44          0.000493       6348.992488\n",
              "18             46          0.000571       5616.720024\n",
              "19             48          0.000633       5021.600162\n",
              "20             50          0.000713       5339.162311"
            ],
            "text/html": [
              "\n",
              "  <div id=\"df-9dbe61ab-117b-48c3-b456-6de8dc9a3cac\">\n",
              "    <div class=\"colab-df-container\">\n",
              "      <div>\n",
              "<style scoped>\n",
              "    .dataframe tbody tr th:only-of-type {\n",
              "        vertical-align: middle;\n",
              "    }\n",
              "\n",
              "    .dataframe tbody tr th {\n",
              "        vertical-align: top;\n",
              "    }\n",
              "\n",
              "    .dataframe thead th {\n",
              "        text-align: right;\n",
              "    }\n",
              "</style>\n",
              "<table border=\"1\" class=\"dataframe\">\n",
              "  <thead>\n",
              "    <tr style=\"text-align: right;\">\n",
              "      <th></th>\n",
              "      <th>Πλήθος Πόλεων</th>\n",
              "      <th>Χρόνος Εκτέλεσης</th>\n",
              "      <th>Κόστος Διαδρομής</th>\n",
              "    </tr>\n",
              "  </thead>\n",
              "  <tbody>\n",
              "    <tr>\n",
              "      <th>0</th>\n",
              "      <td>10</td>\n",
              "      <td>0.000145</td>\n",
              "      <td>2407.757031</td>\n",
              "    </tr>\n",
              "    <tr>\n",
              "      <th>1</th>\n",
              "      <td>12</td>\n",
              "      <td>0.000093</td>\n",
              "      <td>3290.259585</td>\n",
              "    </tr>\n",
              "    <tr>\n",
              "      <th>2</th>\n",
              "      <td>14</td>\n",
              "      <td>0.000157</td>\n",
              "      <td>2036.858926</td>\n",
              "    </tr>\n",
              "    <tr>\n",
              "      <th>3</th>\n",
              "      <td>16</td>\n",
              "      <td>0.000146</td>\n",
              "      <td>3061.735332</td>\n",
              "    </tr>\n",
              "    <tr>\n",
              "      <th>4</th>\n",
              "      <td>18</td>\n",
              "      <td>0.000157</td>\n",
              "      <td>3225.757318</td>\n",
              "    </tr>\n",
              "    <tr>\n",
              "      <th>5</th>\n",
              "      <td>20</td>\n",
              "      <td>0.000169</td>\n",
              "      <td>3818.553682</td>\n",
              "    </tr>\n",
              "    <tr>\n",
              "      <th>6</th>\n",
              "      <td>22</td>\n",
              "      <td>0.000210</td>\n",
              "      <td>4165.210021</td>\n",
              "    </tr>\n",
              "    <tr>\n",
              "      <th>7</th>\n",
              "      <td>24</td>\n",
              "      <td>0.000214</td>\n",
              "      <td>3862.096784</td>\n",
              "    </tr>\n",
              "    <tr>\n",
              "      <th>8</th>\n",
              "      <td>26</td>\n",
              "      <td>0.000310</td>\n",
              "      <td>4316.972214</td>\n",
              "    </tr>\n",
              "    <tr>\n",
              "      <th>9</th>\n",
              "      <td>28</td>\n",
              "      <td>0.000264</td>\n",
              "      <td>4586.595770</td>\n",
              "    </tr>\n",
              "    <tr>\n",
              "      <th>10</th>\n",
              "      <td>30</td>\n",
              "      <td>0.000296</td>\n",
              "      <td>4561.333606</td>\n",
              "    </tr>\n",
              "    <tr>\n",
              "      <th>11</th>\n",
              "      <td>32</td>\n",
              "      <td>0.000320</td>\n",
              "      <td>3958.279804</td>\n",
              "    </tr>\n",
              "    <tr>\n",
              "      <th>12</th>\n",
              "      <td>34</td>\n",
              "      <td>0.000339</td>\n",
              "      <td>4803.006963</td>\n",
              "    </tr>\n",
              "    <tr>\n",
              "      <th>13</th>\n",
              "      <td>36</td>\n",
              "      <td>0.000364</td>\n",
              "      <td>4437.362154</td>\n",
              "    </tr>\n",
              "    <tr>\n",
              "      <th>14</th>\n",
              "      <td>38</td>\n",
              "      <td>0.000403</td>\n",
              "      <td>5742.734051</td>\n",
              "    </tr>\n",
              "    <tr>\n",
              "      <th>15</th>\n",
              "      <td>40</td>\n",
              "      <td>0.000435</td>\n",
              "      <td>5247.575562</td>\n",
              "    </tr>\n",
              "    <tr>\n",
              "      <th>16</th>\n",
              "      <td>42</td>\n",
              "      <td>0.000454</td>\n",
              "      <td>5346.339740</td>\n",
              "    </tr>\n",
              "    <tr>\n",
              "      <th>17</th>\n",
              "      <td>44</td>\n",
              "      <td>0.000493</td>\n",
              "      <td>6348.992488</td>\n",
              "    </tr>\n",
              "    <tr>\n",
              "      <th>18</th>\n",
              "      <td>46</td>\n",
              "      <td>0.000571</td>\n",
              "      <td>5616.720024</td>\n",
              "    </tr>\n",
              "    <tr>\n",
              "      <th>19</th>\n",
              "      <td>48</td>\n",
              "      <td>0.000633</td>\n",
              "      <td>5021.600162</td>\n",
              "    </tr>\n",
              "    <tr>\n",
              "      <th>20</th>\n",
              "      <td>50</td>\n",
              "      <td>0.000713</td>\n",
              "      <td>5339.162311</td>\n",
              "    </tr>\n",
              "  </tbody>\n",
              "</table>\n",
              "</div>\n",
              "      <button class=\"colab-df-convert\" onclick=\"convertToInteractive('df-9dbe61ab-117b-48c3-b456-6de8dc9a3cac')\"\n",
              "              title=\"Convert this dataframe to an interactive table.\"\n",
              "              style=\"display:none;\">\n",
              "        \n",
              "  <svg xmlns=\"http://www.w3.org/2000/svg\" height=\"24px\"viewBox=\"0 0 24 24\"\n",
              "       width=\"24px\">\n",
              "    <path d=\"M0 0h24v24H0V0z\" fill=\"none\"/>\n",
              "    <path d=\"M18.56 5.44l.94 2.06.94-2.06 2.06-.94-2.06-.94-.94-2.06-.94 2.06-2.06.94zm-11 1L8.5 8.5l.94-2.06 2.06-.94-2.06-.94L8.5 2.5l-.94 2.06-2.06.94zm10 10l.94 2.06.94-2.06 2.06-.94-2.06-.94-.94-2.06-.94 2.06-2.06.94z\"/><path d=\"M17.41 7.96l-1.37-1.37c-.4-.4-.92-.59-1.43-.59-.52 0-1.04.2-1.43.59L10.3 9.45l-7.72 7.72c-.78.78-.78 2.05 0 2.83L4 21.41c.39.39.9.59 1.41.59.51 0 1.02-.2 1.41-.59l7.78-7.78 2.81-2.81c.8-.78.8-2.07 0-2.86zM5.41 20L4 18.59l7.72-7.72 1.47 1.35L5.41 20z\"/>\n",
              "  </svg>\n",
              "      </button>\n",
              "      \n",
              "  <style>\n",
              "    .colab-df-container {\n",
              "      display:flex;\n",
              "      flex-wrap:wrap;\n",
              "      gap: 12px;\n",
              "    }\n",
              "\n",
              "    .colab-df-convert {\n",
              "      background-color: #E8F0FE;\n",
              "      border: none;\n",
              "      border-radius: 50%;\n",
              "      cursor: pointer;\n",
              "      display: none;\n",
              "      fill: #1967D2;\n",
              "      height: 32px;\n",
              "      padding: 0 0 0 0;\n",
              "      width: 32px;\n",
              "    }\n",
              "\n",
              "    .colab-df-convert:hover {\n",
              "      background-color: #E2EBFA;\n",
              "      box-shadow: 0px 1px 2px rgba(60, 64, 67, 0.3), 0px 1px 3px 1px rgba(60, 64, 67, 0.15);\n",
              "      fill: #174EA6;\n",
              "    }\n",
              "\n",
              "    [theme=dark] .colab-df-convert {\n",
              "      background-color: #3B4455;\n",
              "      fill: #D2E3FC;\n",
              "    }\n",
              "\n",
              "    [theme=dark] .colab-df-convert:hover {\n",
              "      background-color: #434B5C;\n",
              "      box-shadow: 0px 1px 3px 1px rgba(0, 0, 0, 0.15);\n",
              "      filter: drop-shadow(0px 1px 2px rgba(0, 0, 0, 0.3));\n",
              "      fill: #FFFFFF;\n",
              "    }\n",
              "  </style>\n",
              "\n",
              "      <script>\n",
              "        const buttonEl =\n",
              "          document.querySelector('#df-9dbe61ab-117b-48c3-b456-6de8dc9a3cac button.colab-df-convert');\n",
              "        buttonEl.style.display =\n",
              "          google.colab.kernel.accessAllowed ? 'block' : 'none';\n",
              "\n",
              "        async function convertToInteractive(key) {\n",
              "          const element = document.querySelector('#df-9dbe61ab-117b-48c3-b456-6de8dc9a3cac');\n",
              "          const dataTable =\n",
              "            await google.colab.kernel.invokeFunction('convertToInteractive',\n",
              "                                                     [key], {});\n",
              "          if (!dataTable) return;\n",
              "\n",
              "          const docLinkHtml = 'Like what you see? Visit the ' +\n",
              "            '<a target=\"_blank\" href=https://colab.research.google.com/notebooks/data_table.ipynb>data table notebook</a>'\n",
              "            + ' to learn more about interactive tables.';\n",
              "          element.innerHTML = '';\n",
              "          dataTable['output_type'] = 'display_data';\n",
              "          await google.colab.output.renderOutput(dataTable, element);\n",
              "          const docLink = document.createElement('div');\n",
              "          docLink.innerHTML = docLinkHtml;\n",
              "          element.appendChild(docLink);\n",
              "        }\n",
              "      </script>\n",
              "    </div>\n",
              "  </div>\n",
              "  "
            ]
          },
          "metadata": {},
          "execution_count": 34
        }
      ]
    },
    {
      "cell_type": "code",
      "source": [
        "from google.colab import files\n",
        "df.to_csv('output.csv', encoding = 'utf-8-sig') \n",
        "files.download('output.csv')"
      ],
      "metadata": {
        "colab": {
          "base_uri": "https://localhost:8080/",
          "height": 17
        },
        "id": "1yOXtK_IHITK",
        "outputId": "12a95ab7-6c4e-4288-acda-76828a478cdf"
      },
      "execution_count": null,
      "outputs": [
        {
          "output_type": "display_data",
          "data": {
            "text/plain": [
              "<IPython.core.display.Javascript object>"
            ],
            "application/javascript": [
              "\n",
              "    async function download(id, filename, size) {\n",
              "      if (!google.colab.kernel.accessAllowed) {\n",
              "        return;\n",
              "      }\n",
              "      const div = document.createElement('div');\n",
              "      const label = document.createElement('label');\n",
              "      label.textContent = `Downloading \"${filename}\": `;\n",
              "      div.appendChild(label);\n",
              "      const progress = document.createElement('progress');\n",
              "      progress.max = size;\n",
              "      div.appendChild(progress);\n",
              "      document.body.appendChild(div);\n",
              "\n",
              "      const buffers = [];\n",
              "      let downloaded = 0;\n",
              "\n",
              "      const channel = await google.colab.kernel.comms.open(id);\n",
              "      // Send a message to notify the kernel that we're ready.\n",
              "      channel.send({})\n",
              "\n",
              "      for await (const message of channel.messages) {\n",
              "        // Send a message to notify the kernel that we're ready.\n",
              "        channel.send({})\n",
              "        if (message.buffers) {\n",
              "          for (const buffer of message.buffers) {\n",
              "            buffers.push(buffer);\n",
              "            downloaded += buffer.byteLength;\n",
              "            progress.value = downloaded;\n",
              "          }\n",
              "        }\n",
              "      }\n",
              "      const blob = new Blob(buffers, {type: 'application/binary'});\n",
              "      const a = document.createElement('a');\n",
              "      a.href = window.URL.createObjectURL(blob);\n",
              "      a.download = filename;\n",
              "      div.appendChild(a);\n",
              "      a.click();\n",
              "      div.remove();\n",
              "    }\n",
              "  "
            ]
          },
          "metadata": {}
        },
        {
          "output_type": "display_data",
          "data": {
            "text/plain": [
              "<IPython.core.display.Javascript object>"
            ],
            "application/javascript": [
              "download(\"download_8d91d167-bd27-481f-9d18-94e02b574421\", \"output.csv\", 1057)"
            ]
          },
          "metadata": {}
        }
      ]
    },
    {
      "cell_type": "code",
      "execution_count": null,
      "metadata": {
        "id": "NlEZqQBEISUc"
      },
      "outputs": [],
      "source": [
        "def greedy_tsp(cities):\n",
        "    \"\"\"Go through links, shortest first. Use a link to join segments if possible.\"\"\"\n",
        "    endpoints = {C: [C] for C in cities} # A dict of {endpoint: segment}\n",
        "    for (A, B) in shortest_links_first(cities):\n",
        "        if A in endpoints and B in endpoints and endpoints[A] != endpoints[B]:\n",
        "            new_segment = join_endpoints(endpoints, A, B)\n",
        "            if len(new_segment) == len(cities):\n",
        "                return new_segment\n",
        "            \n",
        "def improve_greedy_tsp(cities): return improve_tour(greedy_tsp(cities))\n",
        "            \n",
        "def shortest_links_first(cities):\n",
        "    \"Return all links between cities, sorted shortest first.\"\n",
        "    return sorted(combinations(cities, 2), key=lambda link: distance(*link))\n",
        "            \n",
        "# TO DO: join_endpoints"
      ]
    },
    {
      "cell_type": "code",
      "source": [
        "df1=[]\n",
        "df2=[]\n",
        "df3=[]\n",
        "df=[]\n",
        "for i in range(10,52,2):\n",
        "  t0 = time.process_time()\n",
        "  greedy_tsp(Cities(i))\n",
        "  t1 = time.process_time()\n",
        "  df1.append(i)\n",
        "  df2.append(t1-t0)\n",
        "  df3.append(tour_length(greedy_tsp(Cities(i))))\n",
        "df=pd.DataFrame({'Πλήθος Πόλεων':df1,'Χρόνος Εκτέλεσης':df2,\"Κόστος Διαδρομής\":df3})"
      ],
      "metadata": {
        "id": "qGjh3FcRIbcT"
      },
      "execution_count": null,
      "outputs": []
    },
    {
      "cell_type": "code",
      "source": [
        "df"
      ],
      "metadata": {
        "colab": {
          "base_uri": "https://localhost:8080/",
          "height": 708
        },
        "id": "8Pi41WIuIkg-",
        "outputId": "1fd857ae-3e98-4223-a5cf-54b0c949c8f5"
      },
      "execution_count": null,
      "outputs": [
        {
          "output_type": "execute_result",
          "data": {
            "text/plain": [
              "    Πλήθος Πόλεων  Χρόνος Εκτέλεσης  Κόστος Διαδρομής\n",
              "0              10          0.000150       2699.061842\n",
              "1              12          0.000140       3116.547954\n",
              "2              14          0.000139       2256.221218\n",
              "3              16          0.000175       3111.777281\n",
              "4              18          0.000204       3262.434410\n",
              "5              20          0.000229       3577.510344\n",
              "6              22          0.000276       4243.023989\n",
              "7              24          0.000322       3552.157297\n",
              "8              26          0.000327       3915.472636\n",
              "9              28          0.000368       4515.505013\n",
              "10             30          0.000437       4270.548327\n",
              "11             32          0.000491       3924.935583\n",
              "12             34          0.000570       5517.307406\n",
              "13             36          0.000565       4598.316035\n",
              "14             38          0.000580       4997.710473\n",
              "15             40          0.000680       4623.991494\n",
              "16             42          0.000748       5237.807279\n",
              "17             44          0.000631       5704.772359\n",
              "18             46          0.000598       5449.779364\n",
              "19             48          0.000745       5403.598367\n",
              "20             50          0.000692       4864.583183"
            ],
            "text/html": [
              "\n",
              "  <div id=\"df-0455ae2e-4743-4589-98d8-ce8398275ef1\">\n",
              "    <div class=\"colab-df-container\">\n",
              "      <div>\n",
              "<style scoped>\n",
              "    .dataframe tbody tr th:only-of-type {\n",
              "        vertical-align: middle;\n",
              "    }\n",
              "\n",
              "    .dataframe tbody tr th {\n",
              "        vertical-align: top;\n",
              "    }\n",
              "\n",
              "    .dataframe thead th {\n",
              "        text-align: right;\n",
              "    }\n",
              "</style>\n",
              "<table border=\"1\" class=\"dataframe\">\n",
              "  <thead>\n",
              "    <tr style=\"text-align: right;\">\n",
              "      <th></th>\n",
              "      <th>Πλήθος Πόλεων</th>\n",
              "      <th>Χρόνος Εκτέλεσης</th>\n",
              "      <th>Κόστος Διαδρομής</th>\n",
              "    </tr>\n",
              "  </thead>\n",
              "  <tbody>\n",
              "    <tr>\n",
              "      <th>0</th>\n",
              "      <td>10</td>\n",
              "      <td>0.000150</td>\n",
              "      <td>2699.061842</td>\n",
              "    </tr>\n",
              "    <tr>\n",
              "      <th>1</th>\n",
              "      <td>12</td>\n",
              "      <td>0.000140</td>\n",
              "      <td>3116.547954</td>\n",
              "    </tr>\n",
              "    <tr>\n",
              "      <th>2</th>\n",
              "      <td>14</td>\n",
              "      <td>0.000139</td>\n",
              "      <td>2256.221218</td>\n",
              "    </tr>\n",
              "    <tr>\n",
              "      <th>3</th>\n",
              "      <td>16</td>\n",
              "      <td>0.000175</td>\n",
              "      <td>3111.777281</td>\n",
              "    </tr>\n",
              "    <tr>\n",
              "      <th>4</th>\n",
              "      <td>18</td>\n",
              "      <td>0.000204</td>\n",
              "      <td>3262.434410</td>\n",
              "    </tr>\n",
              "    <tr>\n",
              "      <th>5</th>\n",
              "      <td>20</td>\n",
              "      <td>0.000229</td>\n",
              "      <td>3577.510344</td>\n",
              "    </tr>\n",
              "    <tr>\n",
              "      <th>6</th>\n",
              "      <td>22</td>\n",
              "      <td>0.000276</td>\n",
              "      <td>4243.023989</td>\n",
              "    </tr>\n",
              "    <tr>\n",
              "      <th>7</th>\n",
              "      <td>24</td>\n",
              "      <td>0.000322</td>\n",
              "      <td>3552.157297</td>\n",
              "    </tr>\n",
              "    <tr>\n",
              "      <th>8</th>\n",
              "      <td>26</td>\n",
              "      <td>0.000327</td>\n",
              "      <td>3915.472636</td>\n",
              "    </tr>\n",
              "    <tr>\n",
              "      <th>9</th>\n",
              "      <td>28</td>\n",
              "      <td>0.000368</td>\n",
              "      <td>4515.505013</td>\n",
              "    </tr>\n",
              "    <tr>\n",
              "      <th>10</th>\n",
              "      <td>30</td>\n",
              "      <td>0.000437</td>\n",
              "      <td>4270.548327</td>\n",
              "    </tr>\n",
              "    <tr>\n",
              "      <th>11</th>\n",
              "      <td>32</td>\n",
              "      <td>0.000491</td>\n",
              "      <td>3924.935583</td>\n",
              "    </tr>\n",
              "    <tr>\n",
              "      <th>12</th>\n",
              "      <td>34</td>\n",
              "      <td>0.000570</td>\n",
              "      <td>5517.307406</td>\n",
              "    </tr>\n",
              "    <tr>\n",
              "      <th>13</th>\n",
              "      <td>36</td>\n",
              "      <td>0.000565</td>\n",
              "      <td>4598.316035</td>\n",
              "    </tr>\n",
              "    <tr>\n",
              "      <th>14</th>\n",
              "      <td>38</td>\n",
              "      <td>0.000580</td>\n",
              "      <td>4997.710473</td>\n",
              "    </tr>\n",
              "    <tr>\n",
              "      <th>15</th>\n",
              "      <td>40</td>\n",
              "      <td>0.000680</td>\n",
              "      <td>4623.991494</td>\n",
              "    </tr>\n",
              "    <tr>\n",
              "      <th>16</th>\n",
              "      <td>42</td>\n",
              "      <td>0.000748</td>\n",
              "      <td>5237.807279</td>\n",
              "    </tr>\n",
              "    <tr>\n",
              "      <th>17</th>\n",
              "      <td>44</td>\n",
              "      <td>0.000631</td>\n",
              "      <td>5704.772359</td>\n",
              "    </tr>\n",
              "    <tr>\n",
              "      <th>18</th>\n",
              "      <td>46</td>\n",
              "      <td>0.000598</td>\n",
              "      <td>5449.779364</td>\n",
              "    </tr>\n",
              "    <tr>\n",
              "      <th>19</th>\n",
              "      <td>48</td>\n",
              "      <td>0.000745</td>\n",
              "      <td>5403.598367</td>\n",
              "    </tr>\n",
              "    <tr>\n",
              "      <th>20</th>\n",
              "      <td>50</td>\n",
              "      <td>0.000692</td>\n",
              "      <td>4864.583183</td>\n",
              "    </tr>\n",
              "  </tbody>\n",
              "</table>\n",
              "</div>\n",
              "      <button class=\"colab-df-convert\" onclick=\"convertToInteractive('df-0455ae2e-4743-4589-98d8-ce8398275ef1')\"\n",
              "              title=\"Convert this dataframe to an interactive table.\"\n",
              "              style=\"display:none;\">\n",
              "        \n",
              "  <svg xmlns=\"http://www.w3.org/2000/svg\" height=\"24px\"viewBox=\"0 0 24 24\"\n",
              "       width=\"24px\">\n",
              "    <path d=\"M0 0h24v24H0V0z\" fill=\"none\"/>\n",
              "    <path d=\"M18.56 5.44l.94 2.06.94-2.06 2.06-.94-2.06-.94-.94-2.06-.94 2.06-2.06.94zm-11 1L8.5 8.5l.94-2.06 2.06-.94-2.06-.94L8.5 2.5l-.94 2.06-2.06.94zm10 10l.94 2.06.94-2.06 2.06-.94-2.06-.94-.94-2.06-.94 2.06-2.06.94z\"/><path d=\"M17.41 7.96l-1.37-1.37c-.4-.4-.92-.59-1.43-.59-.52 0-1.04.2-1.43.59L10.3 9.45l-7.72 7.72c-.78.78-.78 2.05 0 2.83L4 21.41c.39.39.9.59 1.41.59.51 0 1.02-.2 1.41-.59l7.78-7.78 2.81-2.81c.8-.78.8-2.07 0-2.86zM5.41 20L4 18.59l7.72-7.72 1.47 1.35L5.41 20z\"/>\n",
              "  </svg>\n",
              "      </button>\n",
              "      \n",
              "  <style>\n",
              "    .colab-df-container {\n",
              "      display:flex;\n",
              "      flex-wrap:wrap;\n",
              "      gap: 12px;\n",
              "    }\n",
              "\n",
              "    .colab-df-convert {\n",
              "      background-color: #E8F0FE;\n",
              "      border: none;\n",
              "      border-radius: 50%;\n",
              "      cursor: pointer;\n",
              "      display: none;\n",
              "      fill: #1967D2;\n",
              "      height: 32px;\n",
              "      padding: 0 0 0 0;\n",
              "      width: 32px;\n",
              "    }\n",
              "\n",
              "    .colab-df-convert:hover {\n",
              "      background-color: #E2EBFA;\n",
              "      box-shadow: 0px 1px 2px rgba(60, 64, 67, 0.3), 0px 1px 3px 1px rgba(60, 64, 67, 0.15);\n",
              "      fill: #174EA6;\n",
              "    }\n",
              "\n",
              "    [theme=dark] .colab-df-convert {\n",
              "      background-color: #3B4455;\n",
              "      fill: #D2E3FC;\n",
              "    }\n",
              "\n",
              "    [theme=dark] .colab-df-convert:hover {\n",
              "      background-color: #434B5C;\n",
              "      box-shadow: 0px 1px 3px 1px rgba(0, 0, 0, 0.15);\n",
              "      filter: drop-shadow(0px 1px 2px rgba(0, 0, 0, 0.3));\n",
              "      fill: #FFFFFF;\n",
              "    }\n",
              "  </style>\n",
              "\n",
              "      <script>\n",
              "        const buttonEl =\n",
              "          document.querySelector('#df-0455ae2e-4743-4589-98d8-ce8398275ef1 button.colab-df-convert');\n",
              "        buttonEl.style.display =\n",
              "          google.colab.kernel.accessAllowed ? 'block' : 'none';\n",
              "\n",
              "        async function convertToInteractive(key) {\n",
              "          const element = document.querySelector('#df-0455ae2e-4743-4589-98d8-ce8398275ef1');\n",
              "          const dataTable =\n",
              "            await google.colab.kernel.invokeFunction('convertToInteractive',\n",
              "                                                     [key], {});\n",
              "          if (!dataTable) return;\n",
              "\n",
              "          const docLinkHtml = 'Like what you see? Visit the ' +\n",
              "            '<a target=\"_blank\" href=https://colab.research.google.com/notebooks/data_table.ipynb>data table notebook</a>'\n",
              "            + ' to learn more about interactive tables.';\n",
              "          element.innerHTML = '';\n",
              "          dataTable['output_type'] = 'display_data';\n",
              "          await google.colab.output.renderOutput(dataTable, element);\n",
              "          const docLink = document.createElement('div');\n",
              "          docLink.innerHTML = docLinkHtml;\n",
              "          element.appendChild(docLink);\n",
              "        }\n",
              "      </script>\n",
              "    </div>\n",
              "  </div>\n",
              "  "
            ]
          },
          "metadata": {},
          "execution_count": 41
        }
      ]
    },
    {
      "cell_type": "code",
      "source": [
        "from google.colab import files\n",
        "df.to_csv('output.csv', encoding = 'utf-8-sig') \n",
        "files.download('output.csv')"
      ],
      "metadata": {
        "colab": {
          "base_uri": "https://localhost:8080/",
          "height": 17
        },
        "id": "AAeiz1DjIiAd",
        "outputId": "a3418e91-834e-4dd4-c356-042429cd0720"
      },
      "execution_count": null,
      "outputs": [
        {
          "output_type": "display_data",
          "data": {
            "text/plain": [
              "<IPython.core.display.Javascript object>"
            ],
            "application/javascript": [
              "\n",
              "    async function download(id, filename, size) {\n",
              "      if (!google.colab.kernel.accessAllowed) {\n",
              "        return;\n",
              "      }\n",
              "      const div = document.createElement('div');\n",
              "      const label = document.createElement('label');\n",
              "      label.textContent = `Downloading \"${filename}\": `;\n",
              "      div.appendChild(label);\n",
              "      const progress = document.createElement('progress');\n",
              "      progress.max = size;\n",
              "      div.appendChild(progress);\n",
              "      document.body.appendChild(div);\n",
              "\n",
              "      const buffers = [];\n",
              "      let downloaded = 0;\n",
              "\n",
              "      const channel = await google.colab.kernel.comms.open(id);\n",
              "      // Send a message to notify the kernel that we're ready.\n",
              "      channel.send({})\n",
              "\n",
              "      for await (const message of channel.messages) {\n",
              "        // Send a message to notify the kernel that we're ready.\n",
              "        channel.send({})\n",
              "        if (message.buffers) {\n",
              "          for (const buffer of message.buffers) {\n",
              "            buffers.push(buffer);\n",
              "            downloaded += buffer.byteLength;\n",
              "            progress.value = downloaded;\n",
              "          }\n",
              "        }\n",
              "      }\n",
              "      const blob = new Blob(buffers, {type: 'application/binary'});\n",
              "      const a = document.createElement('a');\n",
              "      a.href = window.URL.createObjectURL(blob);\n",
              "      a.download = filename;\n",
              "      div.appendChild(a);\n",
              "      a.click();\n",
              "      div.remove();\n",
              "    }\n",
              "  "
            ]
          },
          "metadata": {}
        },
        {
          "output_type": "display_data",
          "data": {
            "text/plain": [
              "<IPython.core.display.Javascript object>"
            ],
            "application/javascript": [
              "download(\"download_bc89d1a4-9a8d-4b5b-a903-c588b4885a66\", \"output.csv\", 1059)"
            ]
          },
          "metadata": {}
        }
      ]
    }
  ],
  "metadata": {
    "colab": {
      "provenance": []
    },
    "kernelspec": {
      "display_name": "Python 3",
      "name": "python3"
    },
    "language_info": {
      "name": "python"
    },
    "gpuClass": "standard",
    "accelerator": "TPU"
  },
  "nbformat": 4,
  "nbformat_minor": 0
}