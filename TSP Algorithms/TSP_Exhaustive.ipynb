{
  "nbformat": 4,
  "nbformat_minor": 0,
  "metadata": {
    "colab": {
      "provenance": []
    },
    "kernelspec": {
      "name": "python3",
      "display_name": "Python 3"
    },
    "language_info": {
      "name": "python"
    },
    "gpuClass": "standard"
  },
  "cells": [
    {
      "cell_type": "code",
      "execution_count": null,
      "metadata": {
        "id": "iYNpzx6d7J0i"
      },
      "outputs": [],
      "source": [
        "# Imports used in this notebook. This is Python 3 on Jupyter with matplotlib.\n",
        "%matplotlib inline\n",
        "import matplotlib.pyplot as plt\n",
        "import random\n",
        "from itertools   import permutations, combinations\n",
        "from functools   import lru_cache as cache\n",
        "from collections import Counter\n",
        "from statistics  import mean, median\n",
        "import pandas as pd\n",
        "import time\n"
      ]
    },
    {
      "cell_type": "code",
      "source": [
        "def alltours(cities):\n",
        "    \"Return a list of non-redundant tours (permutations of cities).\"\n",
        "    start, *others = cities\n",
        "    return [[start] + Tour(perm) for perm in permutations(others)]\n",
        "    \n",
        "Tour = list  # A Tour is a list of cities"
      ],
      "metadata": {
        "id": "kdChOJEc7qze"
      },
      "execution_count": null,
      "outputs": []
    },
    {
      "cell_type": "code",
      "source": [
        "def exhaustive_tsp(cities):\n",
        "    \"Generate all possible tours of the cities and choose the shortest tour.\"\n",
        "    return shortest_tour(alltours(cities))\n",
        "\n",
        "def shortest_tour(tours): return min(tours, key=tour_length)\n",
        "\n",
        "# TO DO: Data types: City, Cities, Tour; Functions: alltours, tour_length"
      ],
      "metadata": {
        "id": "7Q-NaGAS7VXY"
      },
      "execution_count": null,
      "outputs": []
    },
    {
      "cell_type": "code",
      "source": [
        "def tour_length(tour):\n",
        "    \"\"\"The total of distances between each pair of consecutive cities in the tour.\n",
        "    This includes the last-to-first, distance(tour[-1], tour[0])\"\"\"\n",
        "    return sum(distance(tour[i - 1], tour[i]) \n",
        "               for i in range(len(tour)))\n",
        "\n",
        "City = complex\n",
        "\n",
        "def distance(A, B): return abs(A - B)\n",
        "\n",
        "def Cities(n, seed=391, width=999, height=666):\n",
        "    \"Make a set of n cities, sampled uniformly from a (width x height) rectangle.\"\n",
        "    random.seed((n, seed))\n",
        "    return frozenset(City(random.randint(1, width), random.randint(1, height))\n",
        "                     for c in range(n))"
      ],
      "metadata": {
        "id": "B875OX0t7QBl"
      },
      "execution_count": null,
      "outputs": []
    },
    {
      "cell_type": "code",
      "source": [
        "def plot_tour(tour, style='bo-'): \n",
        "    \"Plot every city and link in the tour, and highlight start city.\"\n",
        "    if len(tour) > 1000: plt.figure(figsize=(15, 10))\n",
        "    start = tour[0:1]\n",
        "    plot_segment(tour + start, style)\n",
        "    plot_segment(start, 'rD') # start city is red Diamond.\n",
        "    \n",
        "def plot_segment(segment, style='bo-'):\n",
        "    \"Plot every city and link in the segment.\"\n",
        "    plt.plot([X(c) for c in segment], [Y(c) for c in segment], style, clip_on=False)\n",
        "    plt.axis('scaled')\n",
        "    plt.axis('on')\n",
        "    \n",
        "def X(city): \"X coordinate.\"; return city.real\n",
        "def Y(city): \"Y coordinate.\"; return city.imag"
      ],
      "metadata": {
        "id": "7gqaLDmu7dzr"
      },
      "execution_count": null,
      "outputs": []
    },
    {
      "cell_type": "code",
      "source": [
        "def do(algorithm, cities):\n",
        "    \"Apply a TSP algorithm to cities, plot the result, and print info.\"\n",
        "    t0 = time.process_time()\n",
        "    tour = algorithm(cities)\n",
        "    t1 = time.process_time()\n",
        "    assert Counter(tour) == Counter(cities) # Every city appears exactly once in tour\n",
        "    plot_tour(tour)\n",
        "    plt.text(x=461,y=295,s=\"City A\",fontsize=10)\n",
        "    plt.text(x=471,y=19,s=\"City B\",fontsize=10)\n",
        "    plt.text(x=631,y=636,s=\"City C\",fontsize=10)\n",
        "    plt.text(x=734,y=292,s=\"City D\",fontsize=10)\n",
        "    plt.text(x=74,y=79,s=\"City E\",fontsize=10)\n",
        "    print(\"{}: {} cities ⇒ tour length {:.0f} (in {:.3f} sec)\".format(\n",
        "          name(algorithm), len(tour), tour_length(tour), t1 - t0))\n",
        "    \n",
        "def name(algorithm): return algorithm.__name__.replace('_tsp', '')"
      ],
      "metadata": {
        "id": "IWWjTuCZ7i9X"
      },
      "execution_count": null,
      "outputs": []
    },
    {
      "cell_type": "code",
      "source": [
        "Cities(5)"
      ],
      "metadata": {
        "colab": {
          "base_uri": "https://localhost:8080/"
        },
        "id": "OMKQLPcC7tPq",
        "outputId": "65725396-9464-439d-ad91-b5d8a9c4ba2d"
      },
      "execution_count": null,
      "outputs": [
        {
          "output_type": "execute_result",
          "data": {
            "text/plain": [
              "frozenset({(461+295j), (471+19j), (631+636j), (734+292j), (74+79j)})"
            ]
          },
          "metadata": {},
          "execution_count": 7
        }
      ]
    },
    {
      "cell_type": "code",
      "source": [
        "ALL_PATHS=alltours(Cities(5))\n",
        "ALL_PATHS"
      ],
      "metadata": {
        "colab": {
          "base_uri": "https://localhost:8080/"
        },
        "id": "TDXYMSCo71Yz",
        "outputId": "00b48b73-9352-4463-da15-20557f6e1918"
      },
      "execution_count": null,
      "outputs": [
        {
          "output_type": "execute_result",
          "data": {
            "text/plain": [
              "[[(461+295j), (734+292j), (631+636j), (471+19j), (74+79j)],\n",
              " [(461+295j), (734+292j), (631+636j), (74+79j), (471+19j)],\n",
              " [(461+295j), (734+292j), (471+19j), (631+636j), (74+79j)],\n",
              " [(461+295j), (734+292j), (471+19j), (74+79j), (631+636j)],\n",
              " [(461+295j), (734+292j), (74+79j), (631+636j), (471+19j)],\n",
              " [(461+295j), (734+292j), (74+79j), (471+19j), (631+636j)],\n",
              " [(461+295j), (631+636j), (734+292j), (471+19j), (74+79j)],\n",
              " [(461+295j), (631+636j), (734+292j), (74+79j), (471+19j)],\n",
              " [(461+295j), (631+636j), (471+19j), (734+292j), (74+79j)],\n",
              " [(461+295j), (631+636j), (471+19j), (74+79j), (734+292j)],\n",
              " [(461+295j), (631+636j), (74+79j), (734+292j), (471+19j)],\n",
              " [(461+295j), (631+636j), (74+79j), (471+19j), (734+292j)],\n",
              " [(461+295j), (471+19j), (734+292j), (631+636j), (74+79j)],\n",
              " [(461+295j), (471+19j), (734+292j), (74+79j), (631+636j)],\n",
              " [(461+295j), (471+19j), (631+636j), (734+292j), (74+79j)],\n",
              " [(461+295j), (471+19j), (631+636j), (74+79j), (734+292j)],\n",
              " [(461+295j), (471+19j), (74+79j), (734+292j), (631+636j)],\n",
              " [(461+295j), (471+19j), (74+79j), (631+636j), (734+292j)],\n",
              " [(461+295j), (74+79j), (734+292j), (631+636j), (471+19j)],\n",
              " [(461+295j), (74+79j), (734+292j), (471+19j), (631+636j)],\n",
              " [(461+295j), (74+79j), (631+636j), (734+292j), (471+19j)],\n",
              " [(461+295j), (74+79j), (631+636j), (471+19j), (734+292j)],\n",
              " [(461+295j), (74+79j), (471+19j), (734+292j), (631+636j)],\n",
              " [(461+295j), (74+79j), (471+19j), (631+636j), (734+292j)]]"
            ]
          },
          "metadata": {},
          "execution_count": 8
        }
      ]
    },
    {
      "cell_type": "code",
      "source": [
        "Distances=[]\n",
        "for i in range(0,24):\n",
        "  Distances.append(tour_length(ALL_PATHS[i]))"
      ],
      "metadata": {
        "id": "cxhFtE-Z7-oW"
      },
      "execution_count": null,
      "outputs": []
    },
    {
      "cell_type": "code",
      "source": [
        "df = pd.DataFrame(list(zip(ALL_PATHS,Distances )),\n",
        "               columns =['ALL PATHS', 'Tour Distances'])\n",
        "#from google.colab import files\n",
        "#df.to_csv('output.csv', encoding = 'utf-8-sig') \n",
        "#files.download('output.csv')\n",
        "df"
      ],
      "metadata": {
        "colab": {
          "base_uri": "https://localhost:8080/",
          "height": 802
        },
        "id": "KVXxg1wnBZ15",
        "outputId": "2e2b9d89-4060-4ad3-f85a-a3566bc19fe6"
      },
      "execution_count": null,
      "outputs": [
        {
          "output_type": "execute_result",
          "data": {
            "text/plain": [
              "                                            ALL PATHS  Tour Distances\n",
              "0   [(461+295j), (734+292j), (631+636j), (471+19j)...     2114.220648\n",
              "1   [(461+295j), (734+292j), (631+636j), (74+79j),...     2097.512069\n",
              "2   [(461+295j), (734+292j), (471+19j), (631+636j)...     2520.415261\n",
              "3   [(461+295j), (734+292j), (471+19j), (74+79j), ...     2222.343279\n",
              "4   [(461+295j), (734+292j), (74+79j), (631+636j),...     2667.841856\n",
              "5   [(461+295j), (734+292j), (74+79j), (471+19j), ...     2386.478453\n",
              "6   [(461+295j), (631+636j), (734+292j), (471+19j)...     1963.897569\n",
              "7   [(461+295j), (631+636j), (734+292j), (74+79j),...     2111.324163\n",
              "8   [(461+295j), (631+636j), (471+19j), (734+292j)...     2534.227356\n",
              "9   [(461+295j), (631+636j), (471+19j), (74+79j), ...     2386.478453\n",
              "10  [(461+295j), (631+636j), (74+79j), (734+292j),...     2517.518776\n",
              "11  [(461+295j), (631+636j), (74+79j), (471+19j), ...     2222.343279\n",
              "12  [(461+295j), (471+19j), (734+292j), (631+636j)...     2245.260971\n",
              "13  [(461+295j), (471+19j), (734+292j), (74+79j), ...     2517.518776\n",
              "14  [(461+295j), (471+19j), (631+636j), (734+292j)...     2409.396145\n",
              "15  [(461+295j), (471+19j), (631+636j), (74+79j), ...     2667.841856\n",
              "16  [(461+295j), (471+19j), (74+79j), (734+292j), ...     2111.324163\n",
              "17  [(461+295j), (471+19j), (74+79j), (631+636j), ...     2097.512069\n",
              "18  [(461+295j), (74+79j), (734+292j), (631+636j),...     2409.396145\n",
              "19  [(461+295j), (74+79j), (734+292j), (471+19j), ...     2534.227356\n",
              "20  [(461+295j), (74+79j), (631+636j), (734+292j),...     2245.260971\n",
              "21  [(461+295j), (74+79j), (631+636j), (471+19j), ...     2520.415261\n",
              "22  [(461+295j), (74+79j), (471+19j), (734+292j), ...     1963.897569\n",
              "23  [(461+295j), (74+79j), (471+19j), (631+636j), ...     2114.220648"
            ],
            "text/html": [
              "\n",
              "  <div id=\"df-29da4364-03cb-49db-8be1-034d9ea92ec3\">\n",
              "    <div class=\"colab-df-container\">\n",
              "      <div>\n",
              "<style scoped>\n",
              "    .dataframe tbody tr th:only-of-type {\n",
              "        vertical-align: middle;\n",
              "    }\n",
              "\n",
              "    .dataframe tbody tr th {\n",
              "        vertical-align: top;\n",
              "    }\n",
              "\n",
              "    .dataframe thead th {\n",
              "        text-align: right;\n",
              "    }\n",
              "</style>\n",
              "<table border=\"1\" class=\"dataframe\">\n",
              "  <thead>\n",
              "    <tr style=\"text-align: right;\">\n",
              "      <th></th>\n",
              "      <th>ALL PATHS</th>\n",
              "      <th>Tour Distances</th>\n",
              "    </tr>\n",
              "  </thead>\n",
              "  <tbody>\n",
              "    <tr>\n",
              "      <th>0</th>\n",
              "      <td>[(461+295j), (734+292j), (631+636j), (471+19j)...</td>\n",
              "      <td>2114.220648</td>\n",
              "    </tr>\n",
              "    <tr>\n",
              "      <th>1</th>\n",
              "      <td>[(461+295j), (734+292j), (631+636j), (74+79j),...</td>\n",
              "      <td>2097.512069</td>\n",
              "    </tr>\n",
              "    <tr>\n",
              "      <th>2</th>\n",
              "      <td>[(461+295j), (734+292j), (471+19j), (631+636j)...</td>\n",
              "      <td>2520.415261</td>\n",
              "    </tr>\n",
              "    <tr>\n",
              "      <th>3</th>\n",
              "      <td>[(461+295j), (734+292j), (471+19j), (74+79j), ...</td>\n",
              "      <td>2222.343279</td>\n",
              "    </tr>\n",
              "    <tr>\n",
              "      <th>4</th>\n",
              "      <td>[(461+295j), (734+292j), (74+79j), (631+636j),...</td>\n",
              "      <td>2667.841856</td>\n",
              "    </tr>\n",
              "    <tr>\n",
              "      <th>5</th>\n",
              "      <td>[(461+295j), (734+292j), (74+79j), (471+19j), ...</td>\n",
              "      <td>2386.478453</td>\n",
              "    </tr>\n",
              "    <tr>\n",
              "      <th>6</th>\n",
              "      <td>[(461+295j), (631+636j), (734+292j), (471+19j)...</td>\n",
              "      <td>1963.897569</td>\n",
              "    </tr>\n",
              "    <tr>\n",
              "      <th>7</th>\n",
              "      <td>[(461+295j), (631+636j), (734+292j), (74+79j),...</td>\n",
              "      <td>2111.324163</td>\n",
              "    </tr>\n",
              "    <tr>\n",
              "      <th>8</th>\n",
              "      <td>[(461+295j), (631+636j), (471+19j), (734+292j)...</td>\n",
              "      <td>2534.227356</td>\n",
              "    </tr>\n",
              "    <tr>\n",
              "      <th>9</th>\n",
              "      <td>[(461+295j), (631+636j), (471+19j), (74+79j), ...</td>\n",
              "      <td>2386.478453</td>\n",
              "    </tr>\n",
              "    <tr>\n",
              "      <th>10</th>\n",
              "      <td>[(461+295j), (631+636j), (74+79j), (734+292j),...</td>\n",
              "      <td>2517.518776</td>\n",
              "    </tr>\n",
              "    <tr>\n",
              "      <th>11</th>\n",
              "      <td>[(461+295j), (631+636j), (74+79j), (471+19j), ...</td>\n",
              "      <td>2222.343279</td>\n",
              "    </tr>\n",
              "    <tr>\n",
              "      <th>12</th>\n",
              "      <td>[(461+295j), (471+19j), (734+292j), (631+636j)...</td>\n",
              "      <td>2245.260971</td>\n",
              "    </tr>\n",
              "    <tr>\n",
              "      <th>13</th>\n",
              "      <td>[(461+295j), (471+19j), (734+292j), (74+79j), ...</td>\n",
              "      <td>2517.518776</td>\n",
              "    </tr>\n",
              "    <tr>\n",
              "      <th>14</th>\n",
              "      <td>[(461+295j), (471+19j), (631+636j), (734+292j)...</td>\n",
              "      <td>2409.396145</td>\n",
              "    </tr>\n",
              "    <tr>\n",
              "      <th>15</th>\n",
              "      <td>[(461+295j), (471+19j), (631+636j), (74+79j), ...</td>\n",
              "      <td>2667.841856</td>\n",
              "    </tr>\n",
              "    <tr>\n",
              "      <th>16</th>\n",
              "      <td>[(461+295j), (471+19j), (74+79j), (734+292j), ...</td>\n",
              "      <td>2111.324163</td>\n",
              "    </tr>\n",
              "    <tr>\n",
              "      <th>17</th>\n",
              "      <td>[(461+295j), (471+19j), (74+79j), (631+636j), ...</td>\n",
              "      <td>2097.512069</td>\n",
              "    </tr>\n",
              "    <tr>\n",
              "      <th>18</th>\n",
              "      <td>[(461+295j), (74+79j), (734+292j), (631+636j),...</td>\n",
              "      <td>2409.396145</td>\n",
              "    </tr>\n",
              "    <tr>\n",
              "      <th>19</th>\n",
              "      <td>[(461+295j), (74+79j), (734+292j), (471+19j), ...</td>\n",
              "      <td>2534.227356</td>\n",
              "    </tr>\n",
              "    <tr>\n",
              "      <th>20</th>\n",
              "      <td>[(461+295j), (74+79j), (631+636j), (734+292j),...</td>\n",
              "      <td>2245.260971</td>\n",
              "    </tr>\n",
              "    <tr>\n",
              "      <th>21</th>\n",
              "      <td>[(461+295j), (74+79j), (631+636j), (471+19j), ...</td>\n",
              "      <td>2520.415261</td>\n",
              "    </tr>\n",
              "    <tr>\n",
              "      <th>22</th>\n",
              "      <td>[(461+295j), (74+79j), (471+19j), (734+292j), ...</td>\n",
              "      <td>1963.897569</td>\n",
              "    </tr>\n",
              "    <tr>\n",
              "      <th>23</th>\n",
              "      <td>[(461+295j), (74+79j), (471+19j), (631+636j), ...</td>\n",
              "      <td>2114.220648</td>\n",
              "    </tr>\n",
              "  </tbody>\n",
              "</table>\n",
              "</div>\n",
              "      <button class=\"colab-df-convert\" onclick=\"convertToInteractive('df-29da4364-03cb-49db-8be1-034d9ea92ec3')\"\n",
              "              title=\"Convert this dataframe to an interactive table.\"\n",
              "              style=\"display:none;\">\n",
              "        \n",
              "  <svg xmlns=\"http://www.w3.org/2000/svg\" height=\"24px\"viewBox=\"0 0 24 24\"\n",
              "       width=\"24px\">\n",
              "    <path d=\"M0 0h24v24H0V0z\" fill=\"none\"/>\n",
              "    <path d=\"M18.56 5.44l.94 2.06.94-2.06 2.06-.94-2.06-.94-.94-2.06-.94 2.06-2.06.94zm-11 1L8.5 8.5l.94-2.06 2.06-.94-2.06-.94L8.5 2.5l-.94 2.06-2.06.94zm10 10l.94 2.06.94-2.06 2.06-.94-2.06-.94-.94-2.06-.94 2.06-2.06.94z\"/><path d=\"M17.41 7.96l-1.37-1.37c-.4-.4-.92-.59-1.43-.59-.52 0-1.04.2-1.43.59L10.3 9.45l-7.72 7.72c-.78.78-.78 2.05 0 2.83L4 21.41c.39.39.9.59 1.41.59.51 0 1.02-.2 1.41-.59l7.78-7.78 2.81-2.81c.8-.78.8-2.07 0-2.86zM5.41 20L4 18.59l7.72-7.72 1.47 1.35L5.41 20z\"/>\n",
              "  </svg>\n",
              "      </button>\n",
              "      \n",
              "  <style>\n",
              "    .colab-df-container {\n",
              "      display:flex;\n",
              "      flex-wrap:wrap;\n",
              "      gap: 12px;\n",
              "    }\n",
              "\n",
              "    .colab-df-convert {\n",
              "      background-color: #E8F0FE;\n",
              "      border: none;\n",
              "      border-radius: 50%;\n",
              "      cursor: pointer;\n",
              "      display: none;\n",
              "      fill: #1967D2;\n",
              "      height: 32px;\n",
              "      padding: 0 0 0 0;\n",
              "      width: 32px;\n",
              "    }\n",
              "\n",
              "    .colab-df-convert:hover {\n",
              "      background-color: #E2EBFA;\n",
              "      box-shadow: 0px 1px 2px rgba(60, 64, 67, 0.3), 0px 1px 3px 1px rgba(60, 64, 67, 0.15);\n",
              "      fill: #174EA6;\n",
              "    }\n",
              "\n",
              "    [theme=dark] .colab-df-convert {\n",
              "      background-color: #3B4455;\n",
              "      fill: #D2E3FC;\n",
              "    }\n",
              "\n",
              "    [theme=dark] .colab-df-convert:hover {\n",
              "      background-color: #434B5C;\n",
              "      box-shadow: 0px 1px 3px 1px rgba(0, 0, 0, 0.15);\n",
              "      filter: drop-shadow(0px 1px 2px rgba(0, 0, 0, 0.3));\n",
              "      fill: #FFFFFF;\n",
              "    }\n",
              "  </style>\n",
              "\n",
              "      <script>\n",
              "        const buttonEl =\n",
              "          document.querySelector('#df-29da4364-03cb-49db-8be1-034d9ea92ec3 button.colab-df-convert');\n",
              "        buttonEl.style.display =\n",
              "          google.colab.kernel.accessAllowed ? 'block' : 'none';\n",
              "\n",
              "        async function convertToInteractive(key) {\n",
              "          const element = document.querySelector('#df-29da4364-03cb-49db-8be1-034d9ea92ec3');\n",
              "          const dataTable =\n",
              "            await google.colab.kernel.invokeFunction('convertToInteractive',\n",
              "                                                     [key], {});\n",
              "          if (!dataTable) return;\n",
              "\n",
              "          const docLinkHtml = 'Like what you see? Visit the ' +\n",
              "            '<a target=\"_blank\" href=https://colab.research.google.com/notebooks/data_table.ipynb>data table notebook</a>'\n",
              "            + ' to learn more about interactive tables.';\n",
              "          element.innerHTML = '';\n",
              "          dataTable['output_type'] = 'display_data';\n",
              "          await google.colab.output.renderOutput(dataTable, element);\n",
              "          const docLink = document.createElement('div');\n",
              "          docLink.innerHTML = docLinkHtml;\n",
              "          element.appendChild(docLink);\n",
              "        }\n",
              "      </script>\n",
              "    </div>\n",
              "  </div>\n",
              "  "
            ]
          },
          "metadata": {},
          "execution_count": 10
        }
      ]
    },
    {
      "cell_type": "markdown",
      "source": [
        "Παραγωγή Dataframe με στήλη 1 όλες τις δυνατές διαδρομές και στήλη 2 την απόσταση της κάθε διαδρομής. Ο Κώδικας στα σχόλια κατεβάζει το dataframe σε μορφή csv"
      ],
      "metadata": {
        "id": "faFCue_mDZgX"
      }
    },
    {
      "cell_type": "code",
      "source": [
        "exhaustive_tsp(Cities(5))"
      ],
      "metadata": {
        "colab": {
          "base_uri": "https://localhost:8080/"
        },
        "id": "x6fcRr4WEcGC",
        "outputId": "ba1fbed3-59b8-46f4-e057-c51a559c4551"
      },
      "execution_count": null,
      "outputs": [
        {
          "output_type": "execute_result",
          "data": {
            "text/plain": [
              "[(461+295j), (631+636j), (734+292j), (471+19j), (74+79j)]"
            ]
          },
          "metadata": {},
          "execution_count": 11
        }
      ]
    },
    {
      "cell_type": "code",
      "source": [
        "do(exhaustive_tsp,Cities(5))"
      ],
      "metadata": {
        "colab": {
          "base_uri": "https://localhost:8080/",
          "height": 282
        },
        "id": "t1Rx6ClpE_wk",
        "outputId": "f3b6df5c-0d60-4c3c-adcc-34e5056b9bfb"
      },
      "execution_count": null,
      "outputs": [
        {
          "output_type": "stream",
          "name": "stdout",
          "text": [
            "exhaustive: 5 cities ⇒ tour length 1964 (in 0.000 sec)\n"
          ]
        },
        {
          "output_type": "display_data",
          "data": {
            "text/plain": [
              "<Figure size 432x288 with 1 Axes>"
            ],
            "image/png": "[encoded data removed]"
          },
          "metadata": {
            "needs_background": "light"
          }
        }
      ]
    },
    {
      "cell_type": "code",
      "source": [
        "for i in range(3,14):\n",
        "  t0 = time.process_time()\n",
        "  exhaustive_tsp(Cities(i))\n",
        "  t1 = time.process_time()\n",
        "  print(i,(t1-t0))"
      ],
      "metadata": {
        "id": "z55ffkbnFTYM",
        "colab": {
          "base_uri": "https://localhost:8080/"
        },
        "outputId": "93d2e3d3-b64c-4c34-b422-a284a7fc0042"
      },
      "execution_count": null,
      "outputs": [
        {
          "output_type": "stream",
          "name": "stdout",
          "text": [
            "3 0.0023188670000000577\n",
            "4 9.36259999999578e-05\n",
            "5 0.00016320099999989068\n",
            "6 0.0006902250000000443\n",
            "7 0.0041794610000001065\n",
            "8 0.03416488200000023\n",
            "9 0.286785348\n",
            "10 3.301984285\n",
            "11 23.641164623999998\n",
            "12 236.08435931699998\n",
            "13 2832.29182\n"
          ]
        }
      ]
    }
  ]
}