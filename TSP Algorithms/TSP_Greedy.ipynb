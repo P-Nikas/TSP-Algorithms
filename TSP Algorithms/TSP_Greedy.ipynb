{
  "nbformat": 4,
  "nbformat_minor": 0,
  "metadata": {
    "colab": {
      "provenance": []
    },
    "kernelspec": {
      "name": "python3",
      "display_name": "Python 3"
    },
    "language_info": {
      "name": "python"
    }
  },
  "cells": [
    {
      "cell_type": "code",
      "source": [
        "# Imports used in this notebook. This is Python 3 on Jupyter with matplotlib.\n",
        "%matplotlib inline\n",
        "import matplotlib.pyplot as plt\n",
        "import random\n",
        "from itertools   import permutations, combinations\n",
        "from functools   import lru_cache as cache\n",
        "from collections import Counter\n",
        "from statistics  import mean, median\n",
        "import pandas as pd\n",
        "import time"
      ],
      "metadata": {
        "id": "-JnQysNOICib"
      },
      "execution_count": null,
      "outputs": []
    },
    {
      "cell_type": "code",
      "source": [
        "def exhaustive_tsp(cities):\n",
        "    \"Generate all possible tours of the cities and choose the shortest tour.\"\n",
        "    return shortest_tour(alltours(cities))\n",
        "\n",
        "def shortest_tour(tours): return min(tours, key=tour_length)\n",
        "\n",
        "# TO DO: Data types: City, Cities, Tour; Functions: alltours, tour_length"
      ],
      "metadata": {
        "id": "7Q-NaGAS7VXY"
      },
      "execution_count": null,
      "outputs": []
    },
    {
      "cell_type": "code",
      "source": [
        "def do(algorithm, cities):\n",
        "    \"Apply a TSP algorithm to cities, plot the result, and print info.\"\n",
        "    t0 = time.process_time()\n",
        "    tour = algorithm(cities)\n",
        "    t1 = time.process_time()\n",
        "    assert Counter(tour) == Counter(cities) # Every city appears exactly once in tour\n",
        "    plot_tour(tour)\n",
        "    plt.text(x=461,y=295,s=\"City A\",fontsize=10)\n",
        "    plt.text(x=471,y=19,s=\"City B\",fontsize=10)\n",
        "    plt.text(x=631,y=636,s=\"City C\",fontsize=10)\n",
        "    plt.text(x=734,y=292,s=\"City D\",fontsize=10)\n",
        "    plt.text(x=74,y=79,s=\"City E\",fontsize=10)\n",
        "    print(\"{}: {} cities ⇒ tour length {:.0f} (in {:.3f} sec)\".format(\n",
        "          name(algorithm), len(tour), tour_length(tour), t1 - t0))\n",
        "    \n",
        "def name(algorithm): return algorithm.__name__.replace('_tsp', '')"
      ],
      "metadata": {
        "id": "IWWjTuCZ7i9X"
      },
      "execution_count": null,
      "outputs": []
    },
    {
      "cell_type": "code",
      "source": [
        "def tour_length(tour):\n",
        "    \"\"\"The total of distances between each pair of consecutive cities in the tour.\n",
        "    This includes the last-to-first, distance(tour[-1], tour[0])\"\"\"\n",
        "    return sum(distance(tour[i - 1], tour[i]) \n",
        "               for i in range(len(tour)))\n",
        "\n",
        "City = complex\n",
        "\n",
        "def distance(A, B): return abs(A - B)\n",
        "\n",
        "def Cities(n, seed=391, width=999, height=666):\n",
        "    \"Make a set of n cities, sampled uniformly from a (width x height) rectangle.\"\n",
        "    random.seed((n, seed))\n",
        "    return frozenset(City(random.randint(1, width), random.randint(1, height))\n",
        "                     for c in range(n))"
      ],
      "metadata": {
        "id": "B875OX0t7QBl"
      },
      "execution_count": null,
      "outputs": []
    },
    {
      "cell_type": "code",
      "source": [
        "def plot_tour(tour, style='bo-'): \n",
        "    \"Plot every city and link in the tour, and highlight start city.\"\n",
        "    if len(tour) > 1000: plt.figure(figsize=(15, 10))\n",
        "    start = tour[0:1]\n",
        "    plot_segment(tour + start, style) \n",
        "    \n",
        "def plot_segment(segment, style='bo-'):\n",
        "    \"Plot every city and link in the segment.\"\n",
        "    plt.plot([X(c) for c in segment], [Y(c) for c in segment], style, clip_on=False)\n",
        "    plt.axis('scaled')\n",
        "    plt.axis('on')\n",
        "    \n",
        "def X(city): \"X coordinate.\"; return city.real\n",
        "def Y(city): \"Y coordinate.\"; return city.imag"
      ],
      "metadata": {
        "id": "7gqaLDmu7dzr"
      },
      "execution_count": null,
      "outputs": []
    },
    {
      "cell_type": "code",
      "execution_count": null,
      "metadata": {
        "id": "izb3ZgHcISUg"
      },
      "outputs": [],
      "source": [
        "def join_endpoints(endpoints, A, B):\n",
        "    \"Join segments [...,A] + [B,...] into one segment. Maintain `endpoints`.\"\n",
        "    Aseg, Bseg = endpoints[A], endpoints[B]\n",
        "    if Aseg[-1] is not A: Aseg.reverse()\n",
        "    if Bseg[0]  is not B: Bseg.reverse()\n",
        "    Aseg += Bseg\n",
        "    del endpoints[A], endpoints[B] \n",
        "    endpoints[Aseg[0]] = endpoints[Aseg[-1]] = Aseg\n",
        "    return Aseg"
      ]
    },
    {
      "cell_type": "code",
      "execution_count": null,
      "metadata": {
        "id": "zE78ysE5ISUW"
      },
      "outputs": [],
      "source": [
        "def improve_tour(tour):\n",
        "    \"Try to alter tour for the better by reversing segments.\"\n",
        "    while True:\n",
        "        improvements = {reverse_segment_if_improvement(tour, i, j)\n",
        "                        for (i, j) in subsegments(len(tour))}\n",
        "        if improvements == {None}:\n",
        "            return tour\n",
        "\n",
        "@cache()\n",
        "def subsegments(N):\n",
        "    \"Return (i, j) pairs denoting tour[i:j] subsegments of a tour of length N.\"\n",
        "    return [(i, i + length)\n",
        "            for length in reversed(range(2, N))\n",
        "            for i in reversed(range(N - length + 1))]"
      ]
    },
    {
      "cell_type": "code",
      "execution_count": null,
      "metadata": {
        "id": "Fe0TTNFDISUV"
      },
      "outputs": [],
      "source": [
        "def reverse_segment_if_improvement(tour, i, j):\n",
        "    \"If reversing tour[i:j] would make the tour shorter, then do it.\" \n",
        "    # Given tour [...A,B...C,D...], consider reversing B...C to get [...A,C...B,D...]\n",
        "    A, B, C, D = tour[i-1], tour[i], tour[j-1], tour[j % len(tour)]\n",
        "    # Are old links (AB + CD) longer than new ones (AC + BD)? If so, reverse segment.\n",
        "    if distance(A, B) + distance(C, D) > distance(A, C) + distance(B, D):\n",
        "        tour[i:j] = reversed(tour[i:j])\n",
        "        return True"
      ]
    },
    {
      "cell_type": "code",
      "execution_count": null,
      "metadata": {
        "id": "NlEZqQBEISUc"
      },
      "outputs": [],
      "source": [
        "def greedy_tsp(cities):\n",
        "    \"\"\"Go through links, shortest first. Use a link to join segments if possible.\"\"\"\n",
        "    endpoints = {C: [C] for C in cities} # A dict of {endpoint: segment}\n",
        "    for (A, B) in shortest_links_first(cities):\n",
        "        if A in endpoints and B in endpoints and endpoints[A] != endpoints[B]:\n",
        "            new_segment = join_endpoints(endpoints, A, B)\n",
        "            if len(new_segment) == len(cities):\n",
        "                return new_segment\n",
        "            \n",
        "def improve_greedy_tsp(cities): return improve_tour(greedy_tsp(cities))\n",
        "            \n",
        "def shortest_links_first(cities):\n",
        "    \"Return all links between cities, sorted shortest first.\"\n",
        "    return sorted(combinations(cities, 2), key=lambda link: distance(*link))\n",
        "            \n",
        "# TO DO: join_endpoints"
      ]
    },
    {
      "cell_type": "code",
      "source": [
        "Cit=greedy_tsp(Cities(5))"
      ],
      "metadata": {
        "id": "cQ6Xc_4WIe3m"
      },
      "execution_count": null,
      "outputs": []
    },
    {
      "cell_type": "code",
      "source": [
        "plot_segment([(461+295j), (734+292j)])\n",
        "plt.axis('scaled')\n",
        "plt.axis([0, 1000, 0, 1000])\n",
        "plt.text(x=461,y=295,s=\"City A\",fontsize=10)\n",
        "plt.text(x=734,y=292,s=\"City D\",fontsize=10)"
      ],
      "metadata": {
        "colab": {
          "base_uri": "https://localhost:8080/",
          "height": 286
        },
        "id": "i7yR6MX7IfqA",
        "outputId": "b2daaa36-0d01-40db-fcbf-e877cf5bc92c"
      },
      "execution_count": null,
      "outputs": [
        {
          "output_type": "execute_result",
          "data": {
            "text/plain": [
              "Text(734, 292, 'City D')"
            ]
          },
          "metadata": {},
          "execution_count": 11
        },
        {
          "output_type": "display_data",
          "data": {
            "text/plain": [
              "<Figure size 432x288 with 1 Axes>"
            ],
            "image/png": "[encoded data removed]"
          },
          "metadata": {
            "needs_background": "light"
          }
        }
      ]
    },
    {
      "cell_type": "code",
      "source": [
        "plot_segment([(471+19j),(461+295j),(734+292j)])\n",
        "plt.axis('scaled')\n",
        "plt.axis([0, 1000, 0, 1000])\n",
        "plt.text(x=461,y=295,s=\"City A\",fontsize=10)\n",
        "plt.text(x=471,y=19,s=\"City B\",fontsize=10)\n",
        "plt.text(x=734,y=292,s=\"City D\",fontsize=10)\n"
      ],
      "metadata": {
        "colab": {
          "base_uri": "https://localhost:8080/",
          "height": 286
        },
        "id": "wv7zI9UhcQOc",
        "outputId": "5bfc84d8-4695-41e7-ade5-c2e1c18d069e"
      },
      "execution_count": null,
      "outputs": [
        {
          "output_type": "execute_result",
          "data": {
            "text/plain": [
              "Text(734, 292, 'City D')"
            ]
          },
          "metadata": {},
          "execution_count": 12
        },
        {
          "output_type": "display_data",
          "data": {
            "text/plain": [
              "<Figure size 432x288 with 1 Axes>"
            ],
            "image/png": "[encoded data removed]"
          },
          "metadata": {
            "needs_background": "light"
          }
        }
      ]
    },
    {
      "cell_type": "code",
      "source": [
        "plot_segment([(471+19j),(461+295j),(734+292j),(631+636j)])\n",
        "plt.axis('scaled')\n",
        "plt.axis([0, 1000, 0, 1000])\n",
        "plt.text(x=461,y=295,s=\"City A\",fontsize=10)\n",
        "plt.text(x=471,y=19,s=\"City B\",fontsize=10)\n",
        "plt.text(x=734,y=292,s=\"City D\",fontsize=10)\n",
        "plt.text(x=631,y=636,s=\"City C\",fontsize=10)"
      ],
      "metadata": {
        "id": "5dfVCb8-In7f",
        "colab": {
          "base_uri": "https://localhost:8080/",
          "height": 286
        },
        "outputId": "4881d5a7-c227-43c8-8294-2e46bc5cb020"
      },
      "execution_count": null,
      "outputs": [
        {
          "output_type": "execute_result",
          "data": {
            "text/plain": [
              "Text(631, 636, 'City C')"
            ]
          },
          "metadata": {},
          "execution_count": 13
        },
        {
          "output_type": "display_data",
          "data": {
            "text/plain": [
              "<Figure size 432x288 with 1 Axes>"
            ],
            "image/png": "[encoded data removed]"
          },
          "metadata": {
            "needs_background": "light"
          }
        }
      ]
    },
    {
      "cell_type": "code",
      "source": [
        "plot_segment([(631+636j),(734+292j),(461+295j),(471+19j),(74+79j)])\n",
        "plt.axis('scaled')\n",
        "plt.axis([0, 1000, 0, 1000])\n",
        "plt.text(x=461,y=295,s=\"City A\",fontsize=10)\n",
        "plt.text(x=471,y=19,s=\"City B\",fontsize=10)\n",
        "plt.text(x=734,y=292,s=\"City D\",fontsize=10)\n",
        "plt.text(x=631,y=636,s=\"City C\",fontsize=10)\n",
        "plt.text(x=74,y=79,s=\"City E\",fontsize=10)"
      ],
      "metadata": {
        "colab": {
          "base_uri": "https://localhost:8080/",
          "height": 286
        },
        "id": "q0OFbYMEdtAp",
        "outputId": "145529a9-e6ea-4e2b-ea4a-9f6d6d51e68b"
      },
      "execution_count": null,
      "outputs": [
        {
          "output_type": "execute_result",
          "data": {
            "text/plain": [
              "Text(74, 79, 'City E')"
            ]
          },
          "metadata": {},
          "execution_count": 14
        },
        {
          "output_type": "display_data",
          "data": {
            "text/plain": [
              "<Figure size 432x288 with 1 Axes>"
            ],
            "image/png": "[encoded data removed]"
          },
          "metadata": {
            "needs_background": "light"
          }
        }
      ]
    },
    {
      "cell_type": "code",
      "source": [
        "plot_segment([(631+636j),(734+292j),(461+295j),(471+19j),(74+79j),(631+636j)])\n",
        "plt.axis('scaled')\n",
        "plt.axis([0, 1000, 0, 1000])\n",
        "plt.text(x=461,y=295,s=\"City A\",fontsize=10)\n",
        "plt.text(x=471,y=19,s=\"City B\",fontsize=10)\n",
        "plt.text(x=734,y=292,s=\"City D\",fontsize=10)\n",
        "plt.text(x=631,y=636,s=\"City C\",fontsize=10)\n",
        "plt.text(x=74,y=79,s=\"City E\",fontsize=10)"
      ],
      "metadata": {
        "colab": {
          "base_uri": "https://localhost:8080/",
          "height": 286
        },
        "id": "gSffCfaQfWEn",
        "outputId": "86d36a06-f0a3-40b8-873f-c1058c0b29d8"
      },
      "execution_count": null,
      "outputs": [
        {
          "output_type": "execute_result",
          "data": {
            "text/plain": [
              "Text(74, 79, 'City E')"
            ]
          },
          "metadata": {},
          "execution_count": 15
        },
        {
          "output_type": "display_data",
          "data": {
            "text/plain": [
              "<Figure size 432x288 with 1 Axes>"
            ],
            "image/png": "[encoded data removed]"
          },
          "metadata": {
            "needs_background": "light"
          }
        }
      ]
    },
    {
      "cell_type": "code",
      "source": [
        "df1=[]\n",
        "df2=[]\n",
        "df3=[]\n",
        "df=[]\n",
        "for i in range(100,1025,25):\n",
        "  t0 = time.process_time()\n",
        "  greedy_tsp(Cities(i))\n",
        "  t1 = time.process_time()\n",
        "  df1.append(i)\n",
        "  df2.append(t1-t0)\n",
        "  df3.append(tour_length(greedy_tsp(Cities(i))))\n",
        "df=pd.DataFrame({'Πλήθος Πόλεων':df1,'Χρόνος Εκτέλεσης':df2,\"Κόστος Διαδρομής\":df3})"
      ],
      "metadata": {
        "id": "18ZhzCw3WFkD"
      },
      "execution_count": null,
      "outputs": []
    },
    {
      "cell_type": "code",
      "source": [
        "df\n",
        "#from google.colab import files\n",
        "#df.to_csv('output.csv', encoding = 'utf-8-sig') \n",
        "#files.download('output.csv')"
      ],
      "metadata": {
        "id": "cg_xgEL0cVxc",
        "colab": {
          "base_uri": "https://localhost:8080/",
          "height": 1000
        },
        "outputId": "b8463953-7898-4b5e-eccb-63c393f524e4"
      },
      "execution_count": null,
      "outputs": [
        {
          "output_type": "execute_result",
          "data": {
            "text/plain": [
              "    Πλήθος Πόλεων  Χρόνος Εκτέλεσης Κόστος Διαδρομής\n",
              "0             100            0.007350       7148.987308\n",
              "1             125            0.011628       8191.232220\n",
              "2             150            0.016735       8987.879383\n",
              "3             175            0.020955       9649.243637\n",
              "4             200            0.028032      10461.202594\n",
              "5             225            0.037092      11188.840094\n",
              "6             250            0.042488      11457.923315\n",
              "7             275            0.053127      11640.413512\n",
              "8             300            0.073701      13237.449069\n",
              "9             325            0.078934      12943.320938\n",
              "10            350            0.093359      13756.728908\n",
              "11            375            0.106833      13719.634083\n",
              "12            400            0.133390      15021.625940\n",
              "13            425            0.126602      13779.842509\n",
              "14            450            0.169231      14550.168893\n",
              "15            475            0.179236      15200.702756\n",
              "16            500            0.222651      15574.266432\n",
              "17            525            0.261979      15904.634842\n",
              "18            550            0.261918      16473.911232\n",
              "19            575            0.300227      17408.880417\n",
              "20            600            0.445266      17007.471063\n",
              "21            625            0.329190      18082.361399\n",
              "22            650            0.346900      17955.913192\n",
              "23            675            0.405846      18470.336799\n",
              "24            700            0.440992      18430.534636\n",
              "25            725            0.474012      18641.348063\n",
              "26            750            0.523614      19887.939151\n",
              "27            775            0.537645      19402.787911\n",
              "28            800            0.603398      20068.396082\n",
              "29            825            0.627812      20533.866408\n",
              "30            850            0.646814      20259.909349\n",
              "31            875            0.709026      20700.504319\n",
              "32            900            0.487312      20744.498012\n",
              "33            925            0.507412      20229.762098\n",
              "34            950            0.555628      21101.018217\n",
              "35            975            0.581082      21565.878762\n",
              "36           1000            0.656597      22284.289670"
            ],
            "text/html": [
              "\n",
              "  <div id=\"df-0034a0fb-ecd9-4f23-9dba-c15bcf3b8e88\">\n",
              "    <div class=\"colab-df-container\">\n",
              "      <div>\n",
              "<style scoped>\n",
              "    .dataframe tbody tr th:only-of-type {\n",
              "        vertical-align: middle;\n",
              "    }\n",
              "\n",
              "    .dataframe tbody tr th {\n",
              "        vertical-align: top;\n",
              "    }\n",
              "\n",
              "    .dataframe thead th {\n",
              "        text-align: right;\n",
              "    }\n",
              "</style>\n",
              "<table border=\"1\" class=\"dataframe\">\n",
              "  <thead>\n",
              "    <tr style=\"text-align: right;\">\n",
              "      <th></th>\n",
              "      <th>Πλήθος Πόλεων</th>\n",
              "      <th>Χρόνος Εκτέλεσης</th>\n",
              "      <th>Κόστος Διαδρομής</th>\n",
              "    </tr>\n",
              "  </thead>\n",
              "  <tbody>\n",
              "    <tr>\n",
              "      <th>0</th>\n",
              "      <td>100</td>\n",
              "      <td>0.007350</td>\n",
              "      <td>7148.987308</td>\n",
              "    </tr>\n",
              "    <tr>\n",
              "      <th>1</th>\n",
              "      <td>125</td>\n",
              "      <td>0.011628</td>\n",
              "      <td>8191.232220</td>\n",
              "    </tr>\n",
              "    <tr>\n",
              "      <th>2</th>\n",
              "      <td>150</td>\n",
              "      <td>0.016735</td>\n",
              "      <td>8987.879383</td>\n",
              "    </tr>\n",
              "    <tr>\n",
              "      <th>3</th>\n",
              "      <td>175</td>\n",
              "      <td>0.020955</td>\n",
              "      <td>9649.243637</td>\n",
              "    </tr>\n",
              "    <tr>\n",
              "      <th>4</th>\n",
              "      <td>200</td>\n",
              "      <td>0.028032</td>\n",
              "      <td>10461.202594</td>\n",
              "    </tr>\n",
              "    <tr>\n",
              "      <th>5</th>\n",
              "      <td>225</td>\n",
              "      <td>0.037092</td>\n",
              "      <td>11188.840094</td>\n",
              "    </tr>\n",
              "    <tr>\n",
              "      <th>6</th>\n",
              "      <td>250</td>\n",
              "      <td>0.042488</td>\n",
              "      <td>11457.923315</td>\n",
              "    </tr>\n",
              "    <tr>\n",
              "      <th>7</th>\n",
              "      <td>275</td>\n",
              "      <td>0.053127</td>\n",
              "      <td>11640.413512</td>\n",
              "    </tr>\n",
              "    <tr>\n",
              "      <th>8</th>\n",
              "      <td>300</td>\n",
              "      <td>0.073701</td>\n",
              "      <td>13237.449069</td>\n",
              "    </tr>\n",
              "    <tr>\n",
              "      <th>9</th>\n",
              "      <td>325</td>\n",
              "      <td>0.078934</td>\n",
              "      <td>12943.320938</td>\n",
              "    </tr>\n",
              "    <tr>\n",
              "      <th>10</th>\n",
              "      <td>350</td>\n",
              "      <td>0.093359</td>\n",
              "      <td>13756.728908</td>\n",
              "    </tr>\n",
              "    <tr>\n",
              "      <th>11</th>\n",
              "      <td>375</td>\n",
              "      <td>0.106833</td>\n",
              "      <td>13719.634083</td>\n",
              "    </tr>\n",
              "    <tr>\n",
              "      <th>12</th>\n",
              "      <td>400</td>\n",
              "      <td>0.133390</td>\n",
              "      <td>15021.625940</td>\n",
              "    </tr>\n",
              "    <tr>\n",
              "      <th>13</th>\n",
              "      <td>425</td>\n",
              "      <td>0.126602</td>\n",
              "      <td>13779.842509</td>\n",
              "    </tr>\n",
              "    <tr>\n",
              "      <th>14</th>\n",
              "      <td>450</td>\n",
              "      <td>0.169231</td>\n",
              "      <td>14550.168893</td>\n",
              "    </tr>\n",
              "    <tr>\n",
              "      <th>15</th>\n",
              "      <td>475</td>\n",
              "      <td>0.179236</td>\n",
              "      <td>15200.702756</td>\n",
              "    </tr>\n",
              "    <tr>\n",
              "      <th>16</th>\n",
              "      <td>500</td>\n",
              "      <td>0.222651</td>\n",
              "      <td>15574.266432</td>\n",
              "    </tr>\n",
              "    <tr>\n",
              "      <th>17</th>\n",
              "      <td>525</td>\n",
              "      <td>0.261979</td>\n",
              "      <td>15904.634842</td>\n",
              "    </tr>\n",
              "    <tr>\n",
              "      <th>18</th>\n",
              "      <td>550</td>\n",
              "      <td>0.261918</td>\n",
              "      <td>16473.911232</td>\n",
              "    </tr>\n",
              "    <tr>\n",
              "      <th>19</th>\n",
              "      <td>575</td>\n",
              "      <td>0.300227</td>\n",
              "      <td>17408.880417</td>\n",
              "    </tr>\n",
              "    <tr>\n",
              "      <th>20</th>\n",
              "      <td>600</td>\n",
              "      <td>0.445266</td>\n",
              "      <td>17007.471063</td>\n",
              "    </tr>\n",
              "    <tr>\n",
              "      <th>21</th>\n",
              "      <td>625</td>\n",
              "      <td>0.329190</td>\n",
              "      <td>18082.361399</td>\n",
              "    </tr>\n",
              "    <tr>\n",
              "      <th>22</th>\n",
              "      <td>650</td>\n",
              "      <td>0.346900</td>\n",
              "      <td>17955.913192</td>\n",
              "    </tr>\n",
              "    <tr>\n",
              "      <th>23</th>\n",
              "      <td>675</td>\n",
              "      <td>0.405846</td>\n",
              "      <td>18470.336799</td>\n",
              "    </tr>\n",
              "    <tr>\n",
              "      <th>24</th>\n",
              "      <td>700</td>\n",
              "      <td>0.440992</td>\n",
              "      <td>18430.534636</td>\n",
              "    </tr>\n",
              "    <tr>\n",
              "      <th>25</th>\n",
              "      <td>725</td>\n",
              "      <td>0.474012</td>\n",
              "      <td>18641.348063</td>\n",
              "    </tr>\n",
              "    <tr>\n",
              "      <th>26</th>\n",
              "      <td>750</td>\n",
              "      <td>0.523614</td>\n",
              "      <td>19887.939151</td>\n",
              "    </tr>\n",
              "    <tr>\n",
              "      <th>27</th>\n",
              "      <td>775</td>\n",
              "      <td>0.537645</td>\n",
              "      <td>19402.787911</td>\n",
              "    </tr>\n",
              "    <tr>\n",
              "      <th>28</th>\n",
              "      <td>800</td>\n",
              "      <td>0.603398</td>\n",
              "      <td>20068.396082</td>\n",
              "    </tr>\n",
              "    <tr>\n",
              "      <th>29</th>\n",
              "      <td>825</td>\n",
              "      <td>0.627812</td>\n",
              "      <td>20533.866408</td>\n",
              "    </tr>\n",
              "    <tr>\n",
              "      <th>30</th>\n",
              "      <td>850</td>\n",
              "      <td>0.646814</td>\n",
              "      <td>20259.909349</td>\n",
              "    </tr>\n",
              "    <tr>\n",
              "      <th>31</th>\n",
              "      <td>875</td>\n",
              "      <td>0.709026</td>\n",
              "      <td>20700.504319</td>\n",
              "    </tr>\n",
              "    <tr>\n",
              "      <th>32</th>\n",
              "      <td>900</td>\n",
              "      <td>0.487312</td>\n",
              "      <td>20744.498012</td>\n",
              "    </tr>\n",
              "    <tr>\n",
              "      <th>33</th>\n",
              "      <td>925</td>\n",
              "      <td>0.507412</td>\n",
              "      <td>20229.762098</td>\n",
              "    </tr>\n",
              "    <tr>\n",
              "      <th>34</th>\n",
              "      <td>950</td>\n",
              "      <td>0.555628</td>\n",
              "      <td>21101.018217</td>\n",
              "    </tr>\n",
              "    <tr>\n",
              "      <th>35</th>\n",
              "      <td>975</td>\n",
              "      <td>0.581082</td>\n",
              "      <td>21565.878762</td>\n",
              "    </tr>\n",
              "    <tr>\n",
              "      <th>36</th>\n",
              "      <td>1000</td>\n",
              "      <td>0.656597</td>\n",
              "      <td>22284.289670</td>\n",
              "    </tr>\n",
              "  </tbody>\n",
              "</table>\n",
              "</div>\n",
              "      <button class=\"colab-df-convert\" onclick=\"convertToInteractive('df-0034a0fb-ecd9-4f23-9dba-c15bcf3b8e88')\"\n",
              "              title=\"Convert this dataframe to an interactive table.\"\n",
              "              style=\"display:none;\">\n",
              "        \n",
              "  <svg xmlns=\"http://www.w3.org/2000/svg\" height=\"24px\"viewBox=\"0 0 24 24\"\n",
              "       width=\"24px\">\n",
              "    <path d=\"M0 0h24v24H0V0z\" fill=\"none\"/>\n",
              "    <path d=\"M18.56 5.44l.94 2.06.94-2.06 2.06-.94-2.06-.94-.94-2.06-.94 2.06-2.06.94zm-11 1L8.5 8.5l.94-2.06 2.06-.94-2.06-.94L8.5 2.5l-.94 2.06-2.06.94zm10 10l.94 2.06.94-2.06 2.06-.94-2.06-.94-.94-2.06-.94 2.06-2.06.94z\"/><path d=\"M17.41 7.96l-1.37-1.37c-.4-.4-.92-.59-1.43-.59-.52 0-1.04.2-1.43.59L10.3 9.45l-7.72 7.72c-.78.78-.78 2.05 0 2.83L4 21.41c.39.39.9.59 1.41.59.51 0 1.02-.2 1.41-.59l7.78-7.78 2.81-2.81c.8-.78.8-2.07 0-2.86zM5.41 20L4 18.59l7.72-7.72 1.47 1.35L5.41 20z\"/>\n",
              "  </svg>\n",
              "      </button>\n",
              "      \n",
              "  <style>\n",
              "    .colab-df-container {\n",
              "      display:flex;\n",
              "      flex-wrap:wrap;\n",
              "      gap: 12px;\n",
              "    }\n",
              "\n",
              "    .colab-df-convert {\n",
              "      background-color: #E8F0FE;\n",
              "      border: none;\n",
              "      border-radius: 50%;\n",
              "      cursor: pointer;\n",
              "      display: none;\n",
              "      fill: #1967D2;\n",
              "      height: 32px;\n",
              "      padding: 0 0 0 0;\n",
              "      width: 32px;\n",
              "    }\n",
              "\n",
              "    .colab-df-convert:hover {\n",
              "      background-color: #E2EBFA;\n",
              "      box-shadow: 0px 1px 2px rgba(60, 64, 67, 0.3), 0px 1px 3px 1px rgba(60, 64, 67, 0.15);\n",
              "      fill: #174EA6;\n",
              "    }\n",
              "\n",
              "    [theme=dark] .colab-df-convert {\n",
              "      background-color: #3B4455;\n",
              "      fill: #D2E3FC;\n",
              "    }\n",
              "\n",
              "    [theme=dark] .colab-df-convert:hover {\n",
              "      background-color: #434B5C;\n",
              "      box-shadow: 0px 1px 3px 1px rgba(0, 0, 0, 0.15);\n",
              "      filter: drop-shadow(0px 1px 2px rgba(0, 0, 0, 0.3));\n",
              "      fill: #FFFFFF;\n",
              "    }\n",
              "  </style>\n",
              "\n",
              "      <script>\n",
              "        const buttonEl =\n",
              "          document.querySelector('#df-0034a0fb-ecd9-4f23-9dba-c15bcf3b8e88 button.colab-df-convert');\n",
              "        buttonEl.style.display =\n",
              "          google.colab.kernel.accessAllowed ? 'block' : 'none';\n",
              "\n",
              "        async function convertToInteractive(key) {\n",
              "          const element = document.querySelector('#df-0034a0fb-ecd9-4f23-9dba-c15bcf3b8e88');\n",
              "          const dataTable =\n",
              "            await google.colab.kernel.invokeFunction('convertToInteractive',\n",
              "                                                     [key], {});\n",
              "          if (!dataTable) return;\n",
              "\n",
              "          const docLinkHtml = 'Like what you see? Visit the ' +\n",
              "            '<a target=\"_blank\" href=https://colab.research.google.com/notebooks/data_table.ipynb>data table notebook</a>'\n",
              "            + ' to learn more about interactive tables.';\n",
              "          element.innerHTML = '';\n",
              "          dataTable['output_type'] = 'display_data';\n",
              "          await google.colab.output.renderOutput(dataTable, element);\n",
              "          const docLink = document.createElement('div');\n",
              "          docLink.innerHTML = docLinkHtml;\n",
              "          element.appendChild(docLink);\n",
              "        }\n",
              "      </script>\n",
              "    </div>\n",
              "  </div>\n",
              "  "
            ]
          },
          "metadata": {},
          "execution_count": 18
        }
      ]
    }
  ]
}